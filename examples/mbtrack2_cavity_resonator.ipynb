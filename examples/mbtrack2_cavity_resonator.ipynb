{
  "nbformat": 4,
  "nbformat_minor": 0,
  "metadata": {
    "colab": {
      "name": "mbtrack2_cavity_resonator.ipynb",
      "provenance": [],
      "collapsed_sections": [],
      "toc_visible": true
    },
    "kernelspec": {
      "name": "python3",
      "display_name": "Python 3"
    },
    "language_info": {
      "name": "python"
    }
  },
  "cells": [
    {
      "cell_type": "markdown",
      "source": [
        "# Introduction\n",
        "\n",
        "This notebook introduces different classes for **mbtrack2** dealing with RF cavities and longitudinal beam dynamics:\n",
        "\n",
        "* The `RFCavity` class is a very simple class using in tracking to model RF cavities using a perfect cosine wave.\n",
        "\n",
        "* The `CavityResonator` class is the main class which can be used to model RF cavities self-consistenly considering beam loading. It can be used in tracking to model:\n",
        "\n",
        "  *   Active RF cavity\n",
        "  *   Passive RF cavity\n",
        "  *   Cavity HOM\n",
        "\n",
        "  The cavity physics is based on the phasor formalism developped in [1], details of the implementation and benchmark can be found in [2,3].\n",
        "\n",
        "* The `BeamLoadingEquilibrium` is used to compute analytically the beam equilibrium profile for a given storage ring and a list of RF cavities of any harmonic. The class assumes an uniform filling of the storage ring.\n",
        "\n",
        "  The implementation is based on an extention of [4] which is detailed in [3].\n",
        "\n",
        "## Convention\n",
        "mbtrack2 uses the cosine convention for RF voltage.\n",
        "\n",
        "## References\n",
        "\n",
        "[1]  Wilson, P. B. (1994). Fundamental-mode rf design in e+ e− storage ring factories. In Frontiers of Particle Beams: Factories with e+ e-Rings (pp. 293-311). Springer, Berlin, Heidelberg.\n",
        "\n",
        "[2] Yamamoto, Naoto, Alexis Gamelin, and Ryutaro Nagaoka. \"Investigation of Longitudinal Beam Dynamics With Harmonic Cavities by Using the Code Mbtrack.\" Proc. 10th International Partile Accelerator Conference (IPAC’19), Melbourne, Australia, 19-24 May 2019. 2019.\n",
        "\n",
        "[3] Gamelin, Alexis, and Naoto Yamamoto. \"Equilibrium Bunch Density Distribution with Multiple Active and Passive RF Cavities.\" 12th International Particle Accelerator Conference. 2021.\n",
        "\n",
        "[4] Venturini, M. (2018). Passive higher-harmonic rf cavities with general settings and multibunch instabilities in electron storage rings. Physical Review Accelerators and Beams, 21(11), 114404.\n",
        "\n"
      ],
      "metadata": {
        "id": "IKih_9pcq9Ui"
      }
    },
    {
      "cell_type": "markdown",
      "source": [
        "# Initialization"
      ],
      "metadata": {
        "id": "MvPLW4R_Td8L"
      }
    },
    {
      "cell_type": "markdown",
      "source": [
        "## mbtrack2 set-up"
      ],
      "metadata": {
        "id": "O5fColz-q2EI"
      }
    },
    {
      "cell_type": "code",
      "execution_count": 1,
      "metadata": {
        "colab": {
          "base_uri": "https://localhost:8080/"
        },
        "id": "BKGTZA_EvtF6",
        "outputId": "46212648-9f92-4a45-a4c0-5c14fdaa74f8"
      },
      "outputs": [
        {
          "output_type": "stream",
          "name": "stdout",
          "text": [
            "Cloning into 'mbtrack2'...\n",
            "remote: Enumerating objects: 1249, done.\u001b[K\n",
            "remote: Counting objects: 100% (224/224), done.\u001b[K\n",
            "remote: Compressing objects: 100% (110/110), done.\u001b[K\n",
            "remote: Total 1249 (delta 127), reused 205 (delta 111), pack-reused 1025\u001b[K\n",
            "Receiving objects: 100% (1249/1249), 502.01 KiB | 1.45 MiB/s, done.\n",
            "Resolving deltas: 100% (831/831), done.\n"
          ]
        }
      ],
      "source": [
        "! git clone https://gitlab.synchrotron-soleil.fr/PA/collective-effects/mbtrack2.git"
      ]
    },
    {
      "cell_type": "code",
      "source": [
        "%cd mbtrack2"
      ],
      "metadata": {
        "colab": {
          "base_uri": "https://localhost:8080/"
        },
        "id": "aIwNdoXlVDus",
        "outputId": "6b55f033-48b0-42d0-cf23-f50534902dac"
      },
      "execution_count": 2,
      "outputs": [
        {
          "output_type": "stream",
          "name": "stdout",
          "text": [
            "/content/mbtrack2\n"
          ]
        }
      ]
    },
    {
      "cell_type": "markdown",
      "source": [
        "## Define a Synchrotron object"
      ],
      "metadata": {
        "id": "-CHO7pYlsa76"
      }
    },
    {
      "cell_type": "code",
      "source": [
        "import numpy as np\n",
        "from mbtrack2.tracking import Synchrotron, Electron\n",
        "from mbtrack2.utilities import Optics"
      ],
      "metadata": {
        "id": "ewMLyHDOslSD"
      },
      "execution_count": 3,
      "outputs": []
    },
    {
      "cell_type": "code",
      "source": [
        "h = 20 # Harmonic number of the accelerator.\n",
        "L = 100 # Ring circumference in [m].\n",
        "E0 = 1.5e9 # Nominal (total) energy of the ring in [eV].\n",
        "particle = Electron() # Particle considered.\n",
        "ac = 1e-3 # Momentum compaction factor.\n",
        "U0 = 200e3 # Energy loss per turn in [eV].\n",
        "tau = np.array([1e-3, 1e-3, 2e-3]) # Horizontal, vertical and longitudinal damping times in [s].\n",
        "tune = np.array([12.2, 15.3]) # Horizontal and vertical tunes.\n",
        "emit = np.array([10e-9, 10e-12]) # Horizontal and vertical equilibrium emittance in [m.rad].\n",
        "sigma_0 = 15e-12 # Natural bunch length in [s].\n",
        "sigma_delta = 1e-3 # Equilibrium energy spread.\n",
        "chro = [2.0, 3.0] # Horizontal and vertical (non-normalized) chromaticities."
      ],
      "metadata": {
        "id": "GH7V8wmmxH4i"
      },
      "execution_count": 4,
      "outputs": []
    },
    {
      "cell_type": "code",
      "source": [
        "local_beta = np.array([3, 2]) # Beta function at the tracking location.\n",
        "local_alpha = np.array([0, 0]) # Alpha function at the tracking location.\n",
        "local_dispersion = np.array([0, 0, 0, 0]) # Dispersion function and its derivative at the tracking location.\n",
        "optics = Optics(local_beta=local_beta, local_alpha=local_alpha, \n",
        "                  local_dispersion=local_dispersion)"
      ],
      "metadata": {
        "id": "yY9Fh3JR1rQy"
      },
      "execution_count": 5,
      "outputs": []
    },
    {
      "cell_type": "code",
      "source": [
        "ring = Synchrotron(h=h, optics=optics, particle=particle, L=L, E0=E0, ac=ac, \n",
        "                   U0=U0, tau=tau, emit=emit, tune=tune, \n",
        "                   sigma_delta=sigma_delta, sigma_0=sigma_0, chro=chro)"
      ],
      "metadata": {
        "id": "WiPq6SDLvbjC"
      },
      "execution_count": 6,
      "outputs": []
    },
    {
      "cell_type": "markdown",
      "source": [
        "## Define a Beam object"
      ],
      "metadata": {
        "id": "xETy3HQMTql_"
      }
    },
    {
      "cell_type": "code",
      "source": [
        "from mbtrack2.tracking import Beam"
      ],
      "metadata": {
        "id": "Vcy-pUOYTwp4"
      },
      "execution_count": 7,
      "outputs": []
    },
    {
      "cell_type": "code",
      "source": [
        "filling_pattern = np.ones(ring.h)*0.025\n",
        "filling_pattern[5:7] = 0.05\n",
        "filling_pattern[10:12] = 0\n",
        "mybeam = Beam(ring)\n",
        "mybeam.init_beam(filling_pattern, mp_per_bunch=1e3)\n",
        "fig = mybeam.plot(\"bunch_current\")\n",
        "print(mybeam.current)"
      ],
      "metadata": {
        "colab": {
          "base_uri": "https://localhost:8080/",
          "height": 296
        },
        "id": "T2Gu7M1XTzSc",
        "outputId": "7c4fc5aa-96d0-49b9-e344-89aacfed91a7"
      },
      "execution_count": 8,
      "outputs": [
        {
          "output_type": "stream",
          "name": "stdout",
          "text": [
            "0.5000000000000001\n"
          ]
        },
        {
          "output_type": "display_data",
          "data": {
            "text/plain": [
              "<Figure size 432x288 with 1 Axes>"
            ],
            "image/png": "[encoded data removed]"
          },
          "metadata": {
            "needs_background": "light"
          }
        }
      ]
    },
    {
      "cell_type": "markdown",
      "source": [
        "# RFCavity class"
      ],
      "metadata": {
        "id": "IvqUpee5OXBF"
      }
    },
    {
      "cell_type": "markdown",
      "source": [
        "The `RFCavity` class is a very simple class to model RF cavities using a perfect cosine wave."
      ],
      "metadata": {
        "id": "EaCxRIgzOfZn"
      }
    },
    {
      "cell_type": "code",
      "source": [
        "from mbtrack2.tracking import RFCavity"
      ],
      "metadata": {
        "id": "_Un3rKy7PFWT"
      },
      "execution_count": 9,
      "outputs": []
    },
    {
      "cell_type": "code",
      "source": [
        "m = 1 # Harmonic number of the cavity\n",
        "Vc = 1e6 # Total cavity voltage in [V].\n",
        "theta = np.arccos(ring.U0/Vc) # Total cavity phase in [rad].\n",
        "RF = RFCavity(ring, m, Vc, theta)"
      ],
      "metadata": {
        "id": "W3yPFAXfPJUr"
      },
      "execution_count": 10,
      "outputs": []
    },
    {
      "cell_type": "markdown",
      "source": [
        "The `track` method of the `RFCavity` class can be called for both `Bunch` and `Beam` elements and simply applies:\n",
        "\n",
        "$\\delta = \\delta +  \\frac{V_c}{E_0} \\cos(m \\omega_1 \\tau + \\theta)$"
      ],
      "metadata": {
        "id": "DrGl4KxsSX9n"
      }
    },
    {
      "cell_type": "code",
      "source": [
        "print(mybeam[0][\"delta\"][:5])\n",
        "RF.track(mybeam)\n",
        "print(mybeam[0][\"delta\"][:5])"
      ],
      "metadata": {
        "colab": {
          "base_uri": "https://localhost:8080/"
        },
        "id": "NnUmubbnUyGJ",
        "outputId": "7e3c2a8b-9f31-42b1-8152-83ce6694ffa3"
      },
      "execution_count": 11,
      "outputs": [
        {
          "output_type": "stream",
          "name": "stdout",
          "text": [
            "[-0.00232786  0.0010207   0.00039116 -0.00193677 -0.0007547 ]\n",
            "[-0.00219293  0.00115227  0.00052083 -0.00180337 -0.00061871]\n"
          ]
        }
      ]
    },
    {
      "cell_type": "markdown",
      "source": [
        "# CavityResonator class\n",
        "The `CavityResonator` can be used to model:\n",
        "\n",
        "*   Active RF cavities\n",
        "*   Passive RF cavities\n",
        "*   Cavity HOMs\n",
        "\n",
        "The cavity physics is based on the phasor formalism developped in [1], details of the implementation and benchmark can be found in [2,3]."
      ],
      "metadata": {
        "id": "ffXq_OnXoFXX"
      }
    },
    {
      "cell_type": "code",
      "source": [
        "import matplotlib.pyplot as plt\n",
        "from mbtrack2.tracking import CavityResonator"
      ],
      "metadata": {
        "id": "f2hjNnrzoYi8"
      },
      "execution_count": 12,
      "outputs": []
    },
    {
      "cell_type": "markdown",
      "source": [
        "Let us define a first `CavityResonator` element, for example to describe the fundamental RF cavity needed for our synchrotron."
      ],
      "metadata": {
        "id": "OtAksc5Bqf6x"
      }
    },
    {
      "cell_type": "code",
      "source": [
        "m = 1 # Harmonic number of the cavity\n",
        "Rs = 5e6 # Shunt impedance of the cavity in [Ohm], defined as 0.5*Vc*Vc/Pc.         \n",
        "         # If Ncav = 1, used for the total shunt impedance.\n",
        "         # If Ncav > 1, used for the shunt impedance per cavity.\n",
        "Q = 35e3 # Quality factor of the cavity.\n",
        "QL = 5e3 # Loaded quality factor of the cavity.\n",
        "detune = -100e3 # Detuing of the cavity in [Hz], defined as (fr - m*ring.f1).\n",
        "Ncav = 4 # Number of cavities.\n",
        "MC = CavityResonator(ring, m, Rs, Q, QL, detune, Ncav=Ncav)"
      ],
      "metadata": {
        "id": "ebAW1aY_rCR0"
      },
      "execution_count": 13,
      "outputs": []
    },
    {
      "cell_type": "markdown",
      "source": [
        "From this first input, usual quantities are computed:"
      ],
      "metadata": {
        "id": "EFCTmCKVtmsG"
      }
    },
    {
      "cell_type": "code",
      "source": [
        "print(MC.beta) # Coupling coefficient of the cavity.\n",
        "print(MC.fr) # Resonance frequency of the cavity in [Hz].\n",
        "print(MC.psi) # Tuning angle in [rad].\n",
        "print(MC.filling_time) # Cavity filling time in [s].\n",
        "print(MC.loss_factor) # Cavity loss factor in [V/C]."
      ],
      "metadata": {
        "colab": {
          "base_uri": "https://localhost:8080/"
        },
        "id": "f_XRdEeutedr",
        "outputId": "c79a074d-52a9-4a7e-c2ba-307ac5a21ed5"
      },
      "execution_count": 14,
      "outputs": [
        {
          "output_type": "stream",
          "name": "stdout",
          "text": [
            "6.0\n",
            "59858491.6\n",
            "-1.5109593939048\n",
            "2.6588532192798413e-05\n",
            "107457712837.44363\n"
          ]
        }
      ]
    },
    {
      "cell_type": "markdown",
      "source": [
        "The full list of parameter, attribute and method are listed in the class docstring and can be accessed by calling:\n",
        "\n",
        "```\n",
        "help(CavityResonator)\n",
        "```"
      ],
      "metadata": {
        "id": "OgBGRud4sNbS"
      }
    },
    {
      "cell_type": "markdown",
      "source": [
        "As this cavity is intented to be an active one, the total voltage and phase must be declared:"
      ],
      "metadata": {
        "id": "7C-P4zzYuPBE"
      }
    },
    {
      "cell_type": "code",
      "source": [
        "MC.Vc = 1e6 # Total cavity voltage in [V].\n",
        "MC.theta = np.arccos(ring.U0/MC.Vc) # Total cavity phase in [rad]."
      ],
      "metadata": {
        "id": "oCn2lTk6rUtr"
      },
      "execution_count": 15,
      "outputs": []
    },
    {
      "cell_type": "markdown",
      "source": [
        "Then class methods can be used to set the optimal tuning point and computing the generator parameters for a given beam current $I_0$:"
      ],
      "metadata": {
        "id": "2fwKN1vDuOJe"
      }
    },
    {
      "cell_type": "code",
      "source": [
        "I0 = 0.5 # Total multi-bunch current in [A].\n",
        "MC.set_optimal_detune(I0) # Set detuning to optimal conditions.\n",
        "print(MC.detune) # Cavity detuning in [Hz] at optimal condition.\n",
        "MC.set_generator(I0) # Set generator parameters (Pg, Vgr, theta_gr, Vg and theta_g) for a given current and set of parameters.\n",
        "print(MC.Pg) # Generator power in [W].\n",
        "print(MC.Vgr) # Generator voltage at resonance in [V].\n",
        "print(MC.theta_gr) # Generator phase at resonance in [rad].\n",
        "print(MC.Vg) # Generator voltage in [V].\n",
        "print(MC.theta_g) # Generator phase in [rad]."
      ],
      "metadata": {
        "colab": {
          "base_uri": "https://localhost:8080/"
        },
        "id": "jqbtSTJ6s4Ge",
        "outputId": "e259484a-caff-4886-ee6b-81e933a8640d"
      },
      "execution_count": 16,
      "outputs": [
        {
          "output_type": "stream",
          "name": "stdout",
          "text": [
            "-16782.53176803142\n",
            "126041.66666666666\n",
            "1571428.5714285714\n",
            "1.369438406005134\n",
            "528626.2644652845\n",
            "0.14173199913728252\n"
          ]
        }
      ]
    },
    {
      "cell_type": "markdown",
      "source": [
        "The phasor diagram showing the phasor addition of the beam voltage $V_b$ and generator voltage $V_g$ giving the total cavity voltage $V_c$ can be plotted:"
      ],
      "metadata": {
        "id": "DihPkQmzFymv"
      }
    },
    {
      "cell_type": "code",
      "source": [
        "fig = MC.plot_phasor(I0)"
      ],
      "metadata": {
        "colab": {
          "base_uri": "https://localhost:8080/",
          "height": 286
        },
        "id": "Ypdhc4McFwXa",
        "outputId": "26f1bfa3-5154-4804-b3c4-31acfaa73f6c"
      },
      "execution_count": 17,
      "outputs": [
        {
          "output_type": "display_data",
          "data": {
            "text/plain": [
              "<Figure size 432x288 with 1 Axes>"
            ],
            "image/png": "[encoded data removed]"
          },
          "metadata": {
            "needs_background": "light"
          }
        }
      ]
    },
    {
      "cell_type": "markdown",
      "source": [
        "The power dissipated in the walls, transmitted to the beam and reflected can be computed: "
      ],
      "metadata": {
        "id": "3pvaDaiSIDgH"
      }
    },
    {
      "cell_type": "code",
      "source": [
        "print(MC.Pc) # Power dissipated in the cavity walls in [W].\n",
        "print(MC.Pb(I0)) # Return power transmitted to the beam in [W].\n",
        "print(MC.Pr(I0)) # Return power reflected back to the generator in [W]."
      ],
      "metadata": {
        "colab": {
          "base_uri": "https://localhost:8080/"
        },
        "id": "ZQNoawSrIDyA",
        "outputId": "4b350628-d3fa-451c-d301-c8c361e88fa0"
      },
      "execution_count": 18,
      "outputs": [
        {
          "output_type": "stream",
          "name": "stdout",
          "text": [
            "25000.0\n",
            "99999.99999999997\n",
            "1041.666666666686\n"
          ]
        }
      ]
    },
    {
      "cell_type": "markdown",
      "source": [
        "The reflected power can be minimized if the cavity coupling is set to the optimal value using the `set_optimal_coupling` method:\n",
        "\n",
        "\n"
      ],
      "metadata": {
        "id": "Z8D6mvrdJPYS"
      }
    },
    {
      "cell_type": "code",
      "source": [
        "MC.set_optimal_coupling(I0) # Set coupling to optimal value.\n",
        "print(MC.beta) # Coupling coefficient of the cavity.\n",
        "MC.set_optimal_detune(I0)\n",
        "MC.set_generator(I0)\n",
        "print(MC.Pr(I0)) # Return power reflected back to the generator in [W]."
      ],
      "metadata": {
        "colab": {
          "base_uri": "https://localhost:8080/"
        },
        "id": "VCeGDP9eJOWT",
        "outputId": "66cbc458-12b6-4d1d-ec61-dbfdd60755ce"
      },
      "execution_count": 19,
      "outputs": [
        {
          "output_type": "stream",
          "name": "stdout",
          "text": [
            "4.999999999999998\n",
            "-1.4551915228366852e-11\n"
          ]
        }
      ]
    },
    {
      "cell_type": "markdown",
      "source": [
        "The DC Robinson stability (for single RF system) can be checked using the methods `is_DC_Robinson_stable` or `plot_DC_Robinson_stability`:"
      ],
      "metadata": {
        "id": "Ahr1lJIuLazM"
      }
    },
    {
      "cell_type": "code",
      "source": [
        "MC.is_DC_Robinson_stable(I0)"
      ],
      "metadata": {
        "colab": {
          "base_uri": "https://localhost:8080/"
        },
        "id": "PdZ8GmWxLrVi",
        "outputId": "c8e888b8-7fc1-4d46-d2c2-2c6320304637"
      },
      "execution_count": 20,
      "outputs": [
        {
          "output_type": "execute_result",
          "data": {
            "text/plain": [
              "True"
            ]
          },
          "metadata": {},
          "execution_count": 20
        }
      ]
    },
    {
      "cell_type": "code",
      "source": [
        "fig = MC.plot_DC_Robinson_stability([-50e3,-5e3])\n",
        "plt.scatter(MC.detune,I0,c=\"g\")\n",
        "print(MC.is_DC_Robinson_stable(0.6))\n",
        "plt.scatter(MC.detune,0.6,c=\"r\")\n",
        "plt.legend([\"Threshold\",\"stable\",\"unstable\"])"
      ],
      "metadata": {
        "colab": {
          "base_uri": "https://localhost:8080/",
          "height": 330
        },
        "id": "yOhFgjdFLrSi",
        "outputId": "4da2cd69-7f10-4a20-d8f4-5bac3587561a"
      },
      "execution_count": 21,
      "outputs": [
        {
          "output_type": "stream",
          "name": "stdout",
          "text": [
            "False\n"
          ]
        },
        {
          "output_type": "execute_result",
          "data": {
            "text/plain": [
              "<matplotlib.legend.Legend at 0x7f58a66e6ad0>"
            ]
          },
          "metadata": {},
          "execution_count": 21
        },
        {
          "output_type": "display_data",
          "data": {
            "text/plain": [
              "<Figure size 432x288 with 1 Axes>"
            ],
            "image/png": "[encoded data removed]"
          },
          "metadata": {
            "needs_background": "light"
          }
        }
      ]
    },
    {
      "cell_type": "markdown",
      "source": [
        "## Tracking"
      ],
      "metadata": {
        "id": "bT_CpT4F_0tv"
      }
    },
    {
      "cell_type": "markdown",
      "source": [
        "Tracking using the `CavityResonator` class is based on the `cavity_phasor` which is the phasor sum of: \n",
        "+ the `generator_phasor` which is fixed by the generator voltage `Vg` and phase `theta_g` attributes:\n",
        "\n",
        "$$\\tilde{V}_{g} = V_{g} e^{j(m \\omega_{1} \\tau + \\theta_{g})}$$\n",
        "\n",
        "+ the `beam_phasor` which evolves dynamically at each call of the `track` method depending on the macro-particle positions and charges. \n",
        "\n",
        "The beam phasor $\\tilde{V}_b$ is built up by the successive passages of the different particles inside the cavity. Each bunch is binned longitudinally and when a bin of charged particle goes through the RF cavity, it induces a voltage \n",
        "\n",
        "$$\\tilde{V}_0 = -2 k_l q_{mp} N_{mp}$$\n",
        "\n",
        "Where $k_l$ is the cavity loss factor, $q_{mp}$ is the macroparticle charge, and $N_{mp}$ is the number of macropartiles in the bin.\n",
        "\n",
        "The voltage induced by the different particles crossing the cavity between time $t$ and time $t + \\Delta t$ is added to the voltage $\\tilde{V}_{b} (t)$ already present in the cavity at time $t$: \n",
        "\n",
        "$$\n",
        "\\tilde{V}_{b} (t + \\Delta t) = \\tilde{V}_{b} (t) e^{-\\frac{\\Delta t}{\\tau_l}}  e^{j\\delta_l \\Delta t} + \\tilde{V}_0 = \\tilde{V}_{b} (t) e^{-\\frac{\\Delta t}{\\tau_l}}  e^{j\\delta_l \\Delta t} -2 k_l q_M\n",
        "$$\n",
        "\n",
        "Where $\\tau_l$ is the cavity filling time and $\\delta_l$ is the phase slippage factor.\n",
        "\n",
        "As a particle see only half of its wake, the energy change felt by the particles in the bin is:\n",
        "\n",
        "$$\\delta = \\delta + \\frac{q}{E_0} \\left [ Re[\\tilde{V}_{g}] + Re[\\tilde{V}_{b}] - q_M k_l \\right]$$\n",
        "\n",
        "At the initialization of the `CavityResonator`, the `beam_phasor` attribute is set to zero:"
      ],
      "metadata": {
        "id": "KeXH-A3WWGyH"
      }
    },
    {
      "cell_type": "code",
      "source": [
        "print(MC.beam_phasor) # Beam phasor for tracking in [V]\n",
        "print(MC.cavity_phasor) # Cavity phasor for tracking in [V]\n",
        "print(MC.cavity_voltage) # Cavity voltage for tracking in [V]\n",
        "print(MC.cavity_phase) # Cavity phase for tracking in [rad]"
      ],
      "metadata": {
        "colab": {
          "base_uri": "https://localhost:8080/"
        },
        "id": "BwnJdmllhV1h",
        "outputId": "d58b9919-69d2-471c-d492-1d688e09ab25"
      },
      "execution_count": 22,
      "outputs": [
        {
          "output_type": "stream",
          "name": "stdout",
          "text": [
            "[0.+0.j]\n",
            "[485714.28571412+46656.94748183j]\n",
            "[487950.03647412]\n",
            "[0.0957646]\n"
          ]
        }
      ]
    },
    {
      "cell_type": "markdown",
      "source": [
        "Depending on the cavity parameters, it can take a long time (especially for super conducting cavities) to fill the cavity and reach the equilibrium beam loading.\n",
        "\n",
        "To speed-up the cavity filling, one should use the `init_phasor` method before starting the tracking."
      ],
      "metadata": {
        "id": "Y5kCnNBjhjZN"
      }
    },
    {
      "cell_type": "code",
      "source": [
        "MC.init_phasor(mybeam)\n",
        "print(MC.beam_phasor) # Beam phasor for tracking in [V]\n",
        "print(MC.cavity_phasor) # Cavity phasor for tracking in [V]\n",
        "print(MC.cavity_voltage) # Cavity voltage for tracking in [V]\n",
        "print(MC.cavity_phase) # Cavity phase for tracking in [rad]"
      ],
      "metadata": {
        "colab": {
          "base_uri": "https://localhost:8080/"
        },
        "id": "PLyRKsWxhiWP",
        "outputId": "b10820b4-27ec-443c-ae3c-43a44875edcc"
      },
      "execution_count": 23,
      "outputs": [
        {
          "output_type": "stream",
          "name": "stdout",
          "text": [
            "[-283882.59602631+933000.63002653j]\n",
            "[201831.68968781+979657.57750836j]\n",
            "[1000232.47304403]\n",
            "[1.36761648]\n"
          ]
        }
      ]
    },
    {
      "cell_type": "markdown",
      "source": [
        "After the `beam_phasor` initialization, the cavity is filled and the `cavity_voltage` and `cavity_phase` attributes match the objective values `Vc` and `theta` which were set previously."
      ],
      "metadata": {
        "id": "AGi1mcHSlPul"
      }
    },
    {
      "cell_type": "code",
      "source": [
        "print(MC.Vc) # Total cavity voltage in [V]. Objective value used in calculations but not in tracking.\n",
        "print(MC.theta) # Total cavity phase in [rad]. Objective value used in calculations but not in tracking."
      ],
      "metadata": {
        "colab": {
          "base_uri": "https://localhost:8080/"
        },
        "id": "Y4IpK8W4mnPz",
        "outputId": "104d4b05-54d7-43c0-8b8a-ddea1b72efea"
      },
      "execution_count": 24,
      "outputs": [
        {
          "output_type": "stream",
          "name": "stdout",
          "text": [
            "1000000.0\n",
            "1.369438406004566\n"
          ]
        }
      ]
    },
    {
      "cell_type": "markdown",
      "source": [
        "Once the `beam_phasor` initialization is done, just call the `track` method to update both the beam particle energy deviation $\\delta$ and the `beam_phasor`:"
      ],
      "metadata": {
        "id": "Skr9SAQRnA1b"
      }
    },
    {
      "cell_type": "code",
      "source": [
        "print(mybeam[0][\"delta\"][:5])\n",
        "print(MC.beam_phasor)\n",
        "MC.track(mybeam)\n",
        "print(mybeam[0][\"delta\"][:5])\n",
        "print(MC.beam_phasor)"
      ],
      "metadata": {
        "id": "uFca7rCTpVWU",
        "colab": {
          "base_uri": "https://localhost:8080/"
        },
        "outputId": "82c7a558-573a-4d5e-e187-1ebab616f834"
      },
      "execution_count": 25,
      "outputs": [
        {
          "output_type": "stream",
          "name": "stdout",
          "text": [
            "[-0.00219293  0.00115227  0.00052083 -0.00180337 -0.00061871]\n",
            "[-283882.59602631+933000.63002653j]\n",
            "[-0.00205699  0.00128446  0.00065101 -0.00166916 -0.00048177]\n",
            "[-283882.71212199+932993.63076803j]\n"
          ]
        }
      ]
    },
    {
      "cell_type": "markdown",
      "source": [
        "The value stored in `beam_phasor` corresponds to the last value of the beam phasor at t=0 (synchronous particle) of the first non empty bunch.\n",
        "\n",
        "The last value of the beam phasor at t=0 (synchronous particle) of each bunch in stored in the `cavity_phasor_record` attribute."
      ],
      "metadata": {
        "id": "-qa6lLrKojo6"
      }
    },
    {
      "cell_type": "code",
      "source": [
        "MC.cavity_phasor_record"
      ],
      "metadata": {
        "colab": {
          "base_uri": "https://localhost:8080/"
        },
        "id": "FDPJPsHHWY94",
        "outputId": "d1633eaf-7223-4941-9a75-bd76d120d15f"
      },
      "execution_count": 26,
      "outputs": [
        {
          "output_type": "execute_result",
          "data": {
            "text/plain": [
              "array([200037.02401695+979657.34988496j, 200036.53611279+979655.45608534j,\n",
              "       200036.04712366+979653.28391847j, 200035.5523303 +979651.2983488j ,\n",
              "       200035.05262454+979649.44196298j, 198239.88409674+979646.89121197j,\n",
              "       196445.68625732+979648.32586931j, 196447.11998679+979652.54663041j,\n",
              "       196448.5611901 +979657.27992109j, 196450.01073998+979661.54239132j,\n",
              "       198246.12991393+979666.34736958j, 200041.28797294+979667.99265838j,\n",
              "       200040.81466583+979665.63314484j, 200040.3380717 +979664.17294936j,\n",
              "       200039.8590515 +979661.85309936j, 200039.37691663+979659.53672756j,\n",
              "       200038.88956584+979657.64069376j, 200038.3996667 +979655.0885858j ,\n",
              "       200037.9050291 +979653.69751251j, 200037.40756945+979652.07384169j])"
            ]
          },
          "metadata": {},
          "execution_count": 26
        }
      ]
    },
    {
      "cell_type": "markdown",
      "source": [
        "## Passive cavity or HOM\n",
        "\n"
      ],
      "metadata": {
        "id": "VTTme9ogyDrF"
      }
    },
    {
      "cell_type": "markdown",
      "source": [
        "A passive (harmonic) cavity or a cavity HOM can be defined in the same way as an active cavity:"
      ],
      "metadata": {
        "id": "I889WwKa3Aak"
      }
    },
    {
      "cell_type": "code",
      "source": [
        "m = 4 # Harmonic number of the cavity\n",
        "Rs = 4.5e9 # Shunt impedance of the cavity in [Ohm], defined as 0.5*Vc*Vc/Pc.         \n",
        "           # If Ncav = 1, used for the total shunt impedance.\n",
        "           # If Ncav > 1, used for the shunt impedance per cavity.\n",
        "Q = 1e8 # Quality factor of the cavity.\n",
        "QL = 1e8 # Loaded quality factor of the cavity.\n",
        "detune = 25e3 # Detuing of the cavity in [Hz], defined as (fr - m*ring.f1).\n",
        "HC = CavityResonator(ring, m, Rs, Q, QL, detune)"
      ],
      "metadata": {
        "id": "_qCp81Zo1n-u"
      },
      "execution_count": 27,
      "outputs": []
    },
    {
      "cell_type": "markdown",
      "source": [
        "The induced voltage can be estimated:"
      ],
      "metadata": {
        "id": "ohllR8eG3Jj8"
      }
    },
    {
      "cell_type": "code",
      "source": [
        "HC.Vb(I0) # Beam voltage in [V]."
      ],
      "metadata": {
        "colab": {
          "base_uri": "https://localhost:8080/"
        },
        "id": "-nWBy0b42FpF",
        "outputId": "7abe3b54-ab96-46ce-f9f0-114f479d9daa"
      },
      "execution_count": 28,
      "outputs": [
        {
          "output_type": "execute_result",
          "data": {
            "text/plain": [
              "215861.81892505847"
            ]
          },
          "metadata": {},
          "execution_count": 28
        }
      ]
    },
    {
      "cell_type": "markdown",
      "source": [
        "If the `CavityResonator` is passive, the **generator voltage** `Vg` and **phase** `theta_g` should **explicitly be set to zero before tracking**:"
      ],
      "metadata": {
        "id": "CSITLGxv3Tf0"
      }
    },
    {
      "cell_type": "code",
      "source": [
        "HC.Vg = 0\n",
        "HC.theta_g = 0"
      ],
      "metadata": {
        "id": "QiSFXSAZ2B4u"
      },
      "execution_count": 29,
      "outputs": []
    },
    {
      "cell_type": "markdown",
      "source": [
        "## Tracking using MPI"
      ],
      "metadata": {
        "id": "YqJtFL_OIvSq"
      }
    },
    {
      "cell_type": "markdown",
      "source": [
        "MPI can be used to speed up the tracking when using a `Beam` object by distributing the different `Bunch` objects in different cores.\n",
        "\n",
        "To be able to use this feature, **the python code must be run with as many core as there is of `Bunch` objects in the `Beam`.**"
      ],
      "metadata": {
        "id": "KmnutEIbrZgf"
      }
    },
    {
      "cell_type": "markdown",
      "source": [
        "MPI parallelisation can be enabled during ``Beam`` initialization by setting the ``mpi`` option to ``True``:"
      ],
      "metadata": {
        "id": "dQLd4_Rym5oz"
      }
    },
    {
      "cell_type": "markdown",
      "source": [
        "\n",
        "\n",
        "```\n",
        "mybeam = Beam(ring)\n",
        "mybeam.init_beam(filling_pattern, mp_per_bunch=1e3, mpi=True)\n",
        "```\n",
        "\n"
      ],
      "metadata": {
        "id": "Le0RaqmJIeaO"
      }
    },
    {
      "cell_type": "markdown",
      "source": [
        "Compared to the tracking without using MPI, the method `Beam.mpi.share_distributions` must be called before each call of `CavityResonator.track` to compute the bunch profiles and share it between the different cores using MPI."
      ],
      "metadata": {
        "id": "Ha14JRYIssAI"
      }
    },
    {
      "cell_type": "markdown",
      "source": [
        "A typical tracking loop using MPI would then be:\n",
        "\n",
        "\n",
        "\n",
        "```\n",
        "MC.init_phasor(beam)\n",
        "HC.init_phasor(beam)\n",
        "\n",
        "for i in range(turns):\n",
        "    \n",
        "    long.track(beam) # Longitudinal map\n",
        "    rad.track(beam) # Synchrotron radiation element\n",
        "    beam.mpi.share_distributions(beam) # Using MPI, this line is needed\n",
        "    MC.track(beam) # CavityResonator element\n",
        "    HC.track(beam) # CavityResonator element\n",
        "```\n",
        "\n"
      ],
      "metadata": {
        "id": "sUO8Nj4wzLCM"
      }
    },
    {
      "cell_type": "markdown",
      "source": [
        "## CavityMonitor"
      ],
      "metadata": {
        "id": "a_B5YgHFHaIA"
      }
    },
    {
      "cell_type": "markdown",
      "source": [
        "The `CavityMonitor` can be used to save data from a `CavityResonator` during the tracking.\n",
        "\n",
        "The follwing attributes are saved:\n",
        "\n",
        "\n",
        "*   Cavity and Beam phasor for at each bunch\n",
        "*   Cavity detuning and angle\n",
        "*   Generator voltage, phase and power\n",
        "*   Shunt impedance, loaded and unload quality factor\n",
        "\n"
      ],
      "metadata": {
        "id": "vXI4RF7thfdw"
      }
    },
    {
      "cell_type": "code",
      "source": [
        "from mbtrack2.tracking.monitors import CavityMonitor, plot_cavitydata"
      ],
      "metadata": {
        "id": "CHF_GzVC5KQD"
      },
      "execution_count": 30,
      "outputs": []
    },
    {
      "cell_type": "markdown",
      "source": [
        "Like the other monitors, the `CavityMonitor` must be initialized before the tracking:"
      ],
      "metadata": {
        "id": "pz6oiLwWKx59"
      }
    },
    {
      "cell_type": "code",
      "source": [
        "MCmon = CavityMonitor(\"MC\", ring, file_name=\"tracking_test\", save_every=1, buffer_size=10, total_size=100, mpi_mode=False)"
      ],
      "metadata": {
        "id": "yN07pCXd5G6q"
      },
      "execution_count": 31,
      "outputs": []
    },
    {
      "cell_type": "markdown",
      "source": [
        "The `track` method of `CavityMonitor` takes the `Beam` object as first agrument and the saved `CavityResonator` as second agrument."
      ],
      "metadata": {
        "id": "QfvJPLzhLEfu"
      }
    },
    {
      "cell_type": "code",
      "source": [
        "from mbtrack2.tracking import LongitudinalMap, SynchrotronRadiation\n",
        "long = LongitudinalMap(ring)\n",
        "rad = SynchrotronRadiation(ring)\n",
        "\n",
        "for i in range(100):\n",
        "    long.track(mybeam)\n",
        "    rad.track(mybeam)\n",
        "    MC.track(mybeam)\n",
        "    MCmon.track(mybeam, MC)"
      ],
      "metadata": {
        "id": "tywlUGCoKguV"
      },
      "execution_count": 32,
      "outputs": []
    },
    {
      "cell_type": "markdown",
      "source": [
        "The saved data can be plotted using the `plot_cavitydata` function:"
      ],
      "metadata": {
        "id": "tYptR7efLVar"
      }
    },
    {
      "cell_type": "code",
      "source": [
        "fig = plot_cavitydata(\"tracking_test.hdf5\",\"MC\")"
      ],
      "metadata": {
        "colab": {
          "base_uri": "https://localhost:8080/",
          "height": 290
        },
        "id": "wL7jVkvMLVzL",
        "outputId": "8e3b303f-c7ea-49dc-bbb3-2f307f36a5a5"
      },
      "execution_count": 33,
      "outputs": [
        {
          "output_type": "display_data",
          "data": {
            "text/plain": [
              "<Figure size 432x288 with 2 Axes>"
            ],
            "image/png": "[encoded data removed]"
          },
          "metadata": {
            "needs_background": "light"
          }
        }
      ]
    },
    {
      "cell_type": "code",
      "source": [
        "fig = plot_cavitydata(\"tracking_test.hdf5\",\"MC\",plot_type=\"turn\",turn=50)"
      ],
      "metadata": {
        "colab": {
          "base_uri": "https://localhost:8080/",
          "height": 290
        },
        "id": "fRGflKdSLuvk",
        "outputId": "1d1f3904-3a44-4b7c-b4f6-93f923455c6e"
      },
      "execution_count": 34,
      "outputs": [
        {
          "output_type": "display_data",
          "data": {
            "text/plain": [
              "<Figure size 432x288 with 2 Axes>"
            ],
            "image/png": "[encoded data removed]"
          },
          "metadata": {
            "needs_background": "light"
          }
        }
      ]
    },
    {
      "cell_type": "code",
      "source": [
        "fig = plot_cavitydata(\"tracking_test.hdf5\",\"MC\",plot_type=\"streak_volt\")"
      ],
      "metadata": {
        "colab": {
          "base_uri": "https://localhost:8080/",
          "height": 290
        },
        "outputId": "407827b0-6370-446a-8b55-7454c842ade5",
        "id": "srURo9xxMqqy"
      },
      "execution_count": 35,
      "outputs": [
        {
          "output_type": "display_data",
          "data": {
            "text/plain": [
              "<Figure size 432x288 with 2 Axes>"
            ],
            "image/png": "[encoded data removed]"
          },
          "metadata": {
            "needs_background": "light"
          }
        }
      ]
    },
    {
      "cell_type": "code",
      "source": [
        "fig = plot_cavitydata(\"tracking_test.hdf5\",\"MC\",plot_type=\"psi\")"
      ],
      "metadata": {
        "colab": {
          "base_uri": "https://localhost:8080/",
          "height": 279
        },
        "outputId": "43daec2f-4b6c-4ce6-ee3f-cbde41532d40",
        "id": "vI20crgCMTkj"
      },
      "execution_count": 36,
      "outputs": [
        {
          "output_type": "display_data",
          "data": {
            "text/plain": [
              "<Figure size 432x288 with 1 Axes>"
            ],
            "image/png": "[encoded data removed]"
          },
          "metadata": {
            "needs_background": "light"
          }
        }
      ]
    },
    {
      "cell_type": "markdown",
      "source": [
        "# BeamLoadingEquilibrium"
      ],
      "metadata": {
        "id": "FCcSoOCRxtGo"
      }
    },
    {
      "cell_type": "markdown",
      "source": [
        "The `BeamLoadingEquilibrium` class is used to compute beam equilibrium profile for a given storage ring and a list of RF cavities of any harmonic. \n",
        "\n",
        "The class assumes an uniform filling of the storage ring and is based on [3,4]."
      ],
      "metadata": {
        "id": "994_v-dON3Kn"
      }
    },
    {
      "cell_type": "code",
      "source": [
        "from mbtrack2.utilities import BeamLoadingEquilibrium"
      ],
      "metadata": {
        "id": "aYfAxnr3Pe9V"
      },
      "execution_count": 37,
      "outputs": []
    },
    {
      "cell_type": "markdown",
      "source": [
        "For example, we can define a $4^{th}$ harmonic passive cavity and compute the resulting bunch profile from the addition of this new cavity with the active fundamental cavity which was defined earlier from tracking.\n",
        "\n",
        "To do that, we reuse the same `CavityResonator` class which was used for tracking:"
      ],
      "metadata": {
        "id": "U0vGsmpj0u_p"
      }
    },
    {
      "cell_type": "code",
      "source": [
        "m = 4\n",
        "Rs = 90e8\n",
        "Q = 1e8\n",
        "QL = 1e8\n",
        "detune = 60e3\n",
        "HC = CavityResonator(ring, m, Rs, Q, QL,detune)\n",
        "HC.Vg = 0\n",
        "HC.theta_g = 0"
      ],
      "metadata": {
        "id": "hBQxYlQvN2f5"
      },
      "execution_count": 38,
      "outputs": []
    },
    {
      "cell_type": "markdown",
      "source": [
        "Then it is possible to define a `BeamLoadingEquilibrium` object to solve using the `beam_equilibrium` method for different harmonic cavity detuning:"
      ],
      "metadata": {
        "id": "VfWbDnTp2Jwn"
      }
    },
    {
      "cell_type": "code",
      "source": [
        "values = np.array([100e3, 60e3, 45e3, 42e3, 41e3])\n",
        "leg = [\"Detune = \" + str(val*1e-3) + \" kHz\" for val in values]\n",
        "for det in values:\n",
        "  HC.detune = det\n",
        "  V = BeamLoadingEquilibrium(ring, [MC,HC], I0, auto_set_MC_theta=False)\n",
        "  sol = V.beam_equilibrium(plot=False)\n",
        "  fig = V.plot_rho(z1=-0.2, z2=0.2)\n",
        "plt.legend(leg)"
      ],
      "metadata": {
        "id": "xAlbfHmoPk4G",
        "colab": {
          "base_uri": "https://localhost:8080/",
          "height": 573
        },
        "outputId": "2bfd5bd8-abd4-4bfa-b229-75d065735279"
      },
      "execution_count": 39,
      "outputs": [
        {
          "output_type": "stream",
          "name": "stdout",
          "text": [
            "The initial center of mass offset is -0.17202964722127753 ps\n",
            "The final center of mass offset is 0.7603234535161224 ps\n",
            "The algorithm has converged: True\n",
            "The initial center of mass offset is -0.7480023322567962 ps\n",
            "The final center of mass offset is 1.5076686428822734 ps\n",
            "The algorithm has converged: True\n",
            "The initial center of mass offset is -21.123659372813226 ps\n",
            "The final center of mass offset is 6.987443148552072 ps\n",
            "The algorithm has converged: True\n",
            "The initial center of mass offset is -178.42158504142017 ps\n",
            "The final center of mass offset is 13.777318935482338 ps\n",
            "The algorithm has converged: True\n",
            "The initial center of mass offset is -325.2644871748486 ps\n",
            "The final center of mass offset is 17.165960774475234 ps\n",
            "The algorithm has converged: True\n"
          ]
        },
        {
          "output_type": "execute_result",
          "data": {
            "text/plain": [
              "<matplotlib.legend.Legend at 0x7f58a1f1c510>"
            ]
          },
          "metadata": {},
          "execution_count": 39
        },
        {
          "output_type": "display_data",
          "data": {
            "text/plain": [
              "<Figure size 432x288 with 1 Axes>"
            ],
            "image/png": "[encoded data removed]"
          },
          "metadata": {
            "needs_background": "light"
          }
        }
      ]
    },
    {
      "cell_type": "markdown",
      "source": [
        "The equilibrium bunch profile computed analytically using `BeamLoadingEquilibrium` can be compared to the tracking results:"
      ],
      "metadata": {
        "id": "cjL-np8paYEq"
      }
    },
    {
      "cell_type": "code",
      "source": [
        "HC.detune = 42e3\n",
        "\n",
        "# Tracking using a uniform beam filling pattern\n",
        "filling_pattern = np.ones(ring.h)*I0/ring.h\n",
        "mybeam = Beam(ring)\n",
        "mybeam.init_beam(filling_pattern, mp_per_bunch=1e4, track_alive=False)\n",
        "\n",
        "for i in range(2000):\n",
        "    if i%100 == 0:\n",
        "      print(i)\n",
        "    long.track(mybeam)\n",
        "    rad.track(mybeam)\n",
        "    MC.track(mybeam)\n",
        "    HC.track(mybeam)\n",
        "\n",
        "\n",
        "# Plot the equilibrium bunch profile\n",
        "V = BeamLoadingEquilibrium(ring, [MC,HC], I0, auto_set_MC_theta=False)\n",
        "sol = V.beam_equilibrium(plot=False)\n",
        "z0 = np.linspace(-0.2, 0.2, 1000)\n",
        "plt.plot(z0, V.rho(z0)/np.max(V.rho(z0)))\n",
        "plt.xlabel(\"z [m]\")\n",
        "plt.title(\"Equilibrium bunch profile\")\n",
        "\n",
        "# Plot the bunch profile of bunch 0 from tracking\n",
        "bins, sorted_index, profile, center = mybeam[0].binning(\"tau\", 75)\n",
        "plt.plot(center*3e8, profile/max(profile))"
      ],
      "metadata": {
        "colab": {
          "base_uri": "https://localhost:8080/",
          "height": 712
        },
        "id": "xvg8zezzV4f_",
        "outputId": "55589a59-d678-4531-8a1d-a8adc5520801"
      },
      "execution_count": 40,
      "outputs": [
        {
          "output_type": "stream",
          "name": "stdout",
          "text": [
            "0\n",
            "100\n",
            "200\n",
            "300\n",
            "400\n",
            "500\n",
            "600\n",
            "700\n",
            "800\n",
            "900\n",
            "1000\n",
            "1100\n",
            "1200\n",
            "1300\n",
            "1400\n",
            "1500\n",
            "1600\n",
            "1700\n",
            "1800\n",
            "1900\n",
            "The initial center of mass offset is -178.42158504142017 ps\n",
            "The final center of mass offset is 13.777318935482338 ps\n",
            "The algorithm has converged: True\n"
          ]
        },
        {
          "output_type": "execute_result",
          "data": {
            "text/plain": [
              "[<matplotlib.lines.Line2D at 0x7f58a1e95e90>]"
            ]
          },
          "metadata": {},
          "execution_count": 40
        },
        {
          "output_type": "display_data",
          "data": {
            "text/plain": [
              "<Figure size 432x288 with 1 Axes>"
            ],
            "image/png": "[encoded data removed]"
          },
          "metadata": {
            "needs_background": "light"
          }
        }
      ]
    }
  ]
}