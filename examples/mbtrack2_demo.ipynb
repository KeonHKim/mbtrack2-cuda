{
  "nbformat": 4,
  "nbformat_minor": 0,
  "metadata": {
    "colab": {
      "name": "mbtrack2_demo.ipynb",
      "provenance": [],
      "collapsed_sections": [],
      "toc_visible": true,
      "authorship_tag": "ABX9TyPRY/XNUoMZ31SXvmqumDMP",
      "include_colab_link": true
    },
    "kernelspec": {
      "name": "python3",
      "display_name": "Python 3"
    },
    "language_info": {
      "name": "python"
    }
  },
  "cells": [
    {
      "cell_type": "markdown",
      "metadata": {
        "id": "view-in-github",
        "colab_type": "text"
      },
      "source": [
        "<a href=\"https://colab.research.google.com/github/GamelinAl/mbtrack2_examples/blob/main/mbtrack2_demo.ipynb\" target=\"_parent\"><img src=\"https://colab.research.google.com/assets/colab-badge.svg\" alt=\"Open In Colab\"/></a>"
      ]
    },
    {
      "cell_type": "markdown",
      "source": [
        "# Wellcome to the mbtrack2 demo !\n",
        "\n",
        "The idea behind **mbtrack2** is to build a **coherent object-oriented framework** to work on **collective effects** in synchrotrons. mbtrack2 is composed of different modules allowing to easily write scripts for **single bunch** or **multi-bunch** tracking using MPI parallelization\n",
        "in a transparent way. \n",
        "\n",
        "The base of the tracking model of mbtrack2 is inspired by **mbtrack**, a C multi-bunch tracking code initially developed at SOLEIL. In addition, many tools to prepare or analyse tracking simulations are included.\n",
        "\n",
        "The aim of this notebook is to demonstrate the main features of **mbtrack2** related to **tracking**."
      ],
      "metadata": {
        "id": "IKih_9pcq9Ui"
      }
    },
    {
      "cell_type": "markdown",
      "source": [
        "## Conventions\n",
        "\n",
        "### Tracking\n",
        "In **mbtrack2**, a particle is described as a point $(x,x',y,y',\\tau,\\delta)$ in the 6-dimensional phase-space: \n",
        "+ $x$ and $y$ are the horizontal and vertical position.\n",
        "+ $x'=\\frac{dx}{ds}$ and $y'=\\frac{dy}{ds}$ are the horizontal and vertical transverse momenta. \n",
        "+ $\\tau$ is the time difference with respect to the reference particle.\n",
        "+ $\\delta = \\frac{E - E_0}{E_0}$ is the relative energy deviation from the reference energy $E_0$. \n",
        "\n",
        "A particle is late compared to the reference particle if $\\tau > 0$.\n",
        "\n",
        "### Units\n",
        "mbtrack2 uses SI units.\n",
        "\n",
        "### RF\n",
        "mbtrack2 uses the cosine convention for RF voltage.\n",
        "\n",
        "### Array structure\n",
        "The arrays are strcutured as [horizontal_value, vertical_value, longitudinal_value]."
      ],
      "metadata": {
        "id": "zutgeXaaBjWg"
      }
    },
    {
      "cell_type": "markdown",
      "source": [
        "# Installation"
      ],
      "metadata": {
        "id": "O5fColz-q2EI"
      }
    },
    {
      "cell_type": "code",
      "execution_count": 1,
      "metadata": {
        "colab": {
          "base_uri": "https://localhost:8080/"
        },
        "id": "BKGTZA_EvtF6",
        "outputId": "abf35331-2e3d-44ab-9b43-d025f8881fc2"
      },
      "outputs": [
        {
          "output_type": "stream",
          "name": "stdout",
          "text": [
            "Cloning into 'mbtrack2'...\n",
            "remote: Enumerating objects: 1139, done.\u001b[K\n",
            "remote: Counting objects: 100% (231/231), done.\u001b[K\n",
            "remote: Compressing objects: 100% (82/82), done.\u001b[K\n",
            "remote: Total 1139 (delta 159), reused 213 (delta 148), pack-reused 908\u001b[K\n",
            "Receiving objects: 100% (1139/1139), 353.44 KiB | 452.00 KiB/s, done.\n",
            "Resolving deltas: 100% (756/756), done.\n"
          ]
        }
      ],
      "source": [
        "! git clone https://gitlab.synchrotron-soleil.fr/PA/collective-effects/mbtrack2.git"
      ]
    },
    {
      "cell_type": "code",
      "source": [
        "%cd mbtrack2"
      ],
      "metadata": {
        "colab": {
          "base_uri": "https://localhost:8080/"
        },
        "id": "aIwNdoXlVDus",
        "outputId": "2caa1b61-8552-4b50-fef0-73d89b1d6f65"
      },
      "execution_count": 2,
      "outputs": [
        {
          "output_type": "stream",
          "name": "stdout",
          "text": [
            "/content/mbtrack2\n"
          ]
        }
      ]
    },
    {
      "cell_type": "code",
      "source": [
        "pip install -r requirements.txt"
      ],
      "metadata": {
        "colab": {
          "base_uri": "https://localhost:8080/"
        },
        "id": "hEbdSRmKRkFS",
        "outputId": "8ceed3cb-c5c2-4955-93f1-a6324a29f18e"
      },
      "execution_count": 3,
      "outputs": [
        {
          "output_type": "stream",
          "name": "stdout",
          "text": [
            "Requirement already satisfied: numpy in /usr/local/lib/python3.7/dist-packages (from -r requirements.txt (line 1)) (1.21.5)\n",
            "Requirement already satisfied: pandas in /usr/local/lib/python3.7/dist-packages (from -r requirements.txt (line 2)) (1.3.5)\n",
            "Requirement already satisfied: scipy in /usr/local/lib/python3.7/dist-packages (from -r requirements.txt (line 3)) (1.4.1)\n",
            "Requirement already satisfied: h5py in /usr/local/lib/python3.7/dist-packages (from -r requirements.txt (line 4)) (3.1.0)\n",
            "Collecting mpi4py\n",
            "  Downloading mpi4py-3.1.3.tar.gz (2.5 MB)\n",
            "\u001b[K     |████████████████████████████████| 2.5 MB 4.5 MB/s \n",
            "\u001b[?25h  Installing build dependencies ... \u001b[?25l\u001b[?25hdone\n",
            "  Getting requirements to build wheel ... \u001b[?25l\u001b[?25hdone\n",
            "    Preparing wheel metadata ... \u001b[?25l\u001b[?25hdone\n",
            "Requirement already satisfied: matplotlib in /usr/local/lib/python3.7/dist-packages (from -r requirements.txt (line 6)) (3.2.2)\n",
            "Requirement already satisfied: seaborn in /usr/local/lib/python3.7/dist-packages (from -r requirements.txt (line 7)) (0.11.2)\n",
            "Requirement already satisfied: mpmath in /usr/local/lib/python3.7/dist-packages (from -r requirements.txt (line 8)) (1.2.1)\n",
            "Requirement already satisfied: ipykernel in /usr/local/lib/python3.7/dist-packages (from -r requirements.txt (line 9)) (4.10.1)\n",
            "Requirement already satisfied: python-dateutil>=2.7.3 in /usr/local/lib/python3.7/dist-packages (from pandas->-r requirements.txt (line 2)) (2.8.2)\n",
            "Requirement already satisfied: pytz>=2017.3 in /usr/local/lib/python3.7/dist-packages (from pandas->-r requirements.txt (line 2)) (2018.9)\n",
            "Requirement already satisfied: six>=1.5 in /usr/local/lib/python3.7/dist-packages (from python-dateutil>=2.7.3->pandas->-r requirements.txt (line 2)) (1.15.0)\n",
            "Requirement already satisfied: cached-property in /usr/local/lib/python3.7/dist-packages (from h5py->-r requirements.txt (line 4)) (1.5.2)\n",
            "Requirement already satisfied: cycler>=0.10 in /usr/local/lib/python3.7/dist-packages (from matplotlib->-r requirements.txt (line 6)) (0.11.0)\n",
            "Requirement already satisfied: kiwisolver>=1.0.1 in /usr/local/lib/python3.7/dist-packages (from matplotlib->-r requirements.txt (line 6)) (1.4.0)\n",
            "Requirement already satisfied: pyparsing!=2.0.4,!=2.1.2,!=2.1.6,>=2.0.1 in /usr/local/lib/python3.7/dist-packages (from matplotlib->-r requirements.txt (line 6)) (3.0.7)\n",
            "Requirement already satisfied: typing-extensions in /usr/local/lib/python3.7/dist-packages (from kiwisolver>=1.0.1->matplotlib->-r requirements.txt (line 6)) (3.10.0.2)\n",
            "Requirement already satisfied: traitlets>=4.1.0 in /usr/local/lib/python3.7/dist-packages (from ipykernel->-r requirements.txt (line 9)) (5.1.1)\n",
            "Requirement already satisfied: jupyter-client in /usr/local/lib/python3.7/dist-packages (from ipykernel->-r requirements.txt (line 9)) (5.3.5)\n",
            "Requirement already satisfied: ipython>=4.0.0 in /usr/local/lib/python3.7/dist-packages (from ipykernel->-r requirements.txt (line 9)) (5.5.0)\n",
            "Requirement already satisfied: tornado>=4.0 in /usr/local/lib/python3.7/dist-packages (from ipykernel->-r requirements.txt (line 9)) (5.1.1)\n",
            "Requirement already satisfied: simplegeneric>0.8 in /usr/local/lib/python3.7/dist-packages (from ipython>=4.0.0->ipykernel->-r requirements.txt (line 9)) (0.8.1)\n",
            "Requirement already satisfied: pygments in /usr/local/lib/python3.7/dist-packages (from ipython>=4.0.0->ipykernel->-r requirements.txt (line 9)) (2.6.1)\n",
            "Requirement already satisfied: pexpect in /usr/local/lib/python3.7/dist-packages (from ipython>=4.0.0->ipykernel->-r requirements.txt (line 9)) (4.8.0)\n",
            "Requirement already satisfied: prompt-toolkit<2.0.0,>=1.0.4 in /usr/local/lib/python3.7/dist-packages (from ipython>=4.0.0->ipykernel->-r requirements.txt (line 9)) (1.0.18)\n",
            "Requirement already satisfied: pickleshare in /usr/local/lib/python3.7/dist-packages (from ipython>=4.0.0->ipykernel->-r requirements.txt (line 9)) (0.7.5)\n",
            "Requirement already satisfied: decorator in /usr/local/lib/python3.7/dist-packages (from ipython>=4.0.0->ipykernel->-r requirements.txt (line 9)) (4.4.2)\n",
            "Requirement already satisfied: setuptools>=18.5 in /usr/local/lib/python3.7/dist-packages (from ipython>=4.0.0->ipykernel->-r requirements.txt (line 9)) (57.4.0)\n",
            "Requirement already satisfied: wcwidth in /usr/local/lib/python3.7/dist-packages (from prompt-toolkit<2.0.0,>=1.0.4->ipython>=4.0.0->ipykernel->-r requirements.txt (line 9)) (0.2.5)\n",
            "Requirement already satisfied: jupyter-core>=4.6.0 in /usr/local/lib/python3.7/dist-packages (from jupyter-client->ipykernel->-r requirements.txt (line 9)) (4.9.2)\n",
            "Requirement already satisfied: pyzmq>=13 in /usr/local/lib/python3.7/dist-packages (from jupyter-client->ipykernel->-r requirements.txt (line 9)) (22.3.0)\n",
            "Requirement already satisfied: ptyprocess>=0.5 in /usr/local/lib/python3.7/dist-packages (from pexpect->ipython>=4.0.0->ipykernel->-r requirements.txt (line 9)) (0.7.0)\n",
            "Building wheels for collected packages: mpi4py\n",
            "  Building wheel for mpi4py (PEP 517) ... \u001b[?25l\u001b[?25hdone\n",
            "  Created wheel for mpi4py: filename=mpi4py-3.1.3-cp37-cp37m-linux_x86_64.whl size=2185312 sha256=19b71d4d34ae88e97f5afa2fc279ff8bd8fdf2aee10ee2038273290049d33896\n",
            "  Stored in directory: /root/.cache/pip/wheels/7a/07/14/6a0c63fa2c6e473c6edc40985b7d89f05c61ff25ee7f0ad9ac\n",
            "Successfully built mpi4py\n",
            "Installing collected packages: mpi4py\n",
            "Successfully installed mpi4py-3.1.3\n"
          ]
        }
      ]
    },
    {
      "cell_type": "markdown",
      "source": [
        "# Synchrotron object"
      ],
      "metadata": {
        "id": "-CHO7pYlsa76"
      }
    },
    {
      "cell_type": "code",
      "source": [
        "import numpy as np\n",
        "from mbtrack2.tracking import Synchrotron, Electron\n",
        "from mbtrack2.utilities import Optics"
      ],
      "metadata": {
        "id": "ewMLyHDOslSD"
      },
      "execution_count": 4,
      "outputs": []
    },
    {
      "cell_type": "markdown",
      "source": [
        "To known how to use and define mbtrack2 classes, use the help:\n",
        "\n",
        "\n",
        "```\n",
        "help(Synchrotron)\n",
        "```\n",
        "\n"
      ],
      "metadata": {
        "id": "WsbeELvuyder"
      }
    },
    {
      "cell_type": "markdown",
      "source": [
        "Let us define some paramter for our synchrotron:"
      ],
      "metadata": {
        "id": "07gwix3w1Fat"
      }
    },
    {
      "cell_type": "code",
      "source": [
        "h = 20 # Harmonic number of the accelerator.\n",
        "L = 100 # Ring circumference in [m].\n",
        "E0 = 1.5e9 # Nominal (total) energy of the ring in [eV].\n",
        "particle = Electron() # Particle considered.\n",
        "ac = 1e-3 # Momentum compaction factor.\n",
        "U0 = 200e3 # Energy loss per turn in [eV].\n",
        "tau = np.array([1e-3, 1e-3, 2e-3]) # Horizontal, vertical and longitudinal damping times in [s].\n",
        "tune = np.array([12.2, 15.3]) # Horizontal and vertical tunes.\n",
        "emit = np.array([10e-9, 10e-12]) # Horizontal and vertical equilibrium emittance in [m.rad].\n",
        "sigma_0 = 15e-12 # Natural bunch length in [s].\n",
        "sigma_delta = 1e-3 # Equilibrium energy spread.\n",
        "chro = [2.0, 3.0] # Horizontal and vertical (non-normalized) chromaticities."
      ],
      "metadata": {
        "id": "GH7V8wmmxH4i"
      },
      "execution_count": 5,
      "outputs": []
    },
    {
      "cell_type": "markdown",
      "source": [
        "The `Optics` class stores optic functions related values.\n",
        "\n",
        "Here we define the values of the optic functions at the tracking location:"
      ],
      "metadata": {
        "id": "edkvIwjs1vdK"
      }
    },
    {
      "cell_type": "code",
      "source": [
        "local_beta = np.array([3, 2]) # Beta function at the tracking location.\n",
        "local_alpha = np.array([0, 0]) # Alpha function at the tracking location.\n",
        "local_dispersion = np.array([0, 0, 0, 0]) # Dispersion function and its derivative at the tracking location.\n",
        "optics = Optics(local_beta=local_beta, local_alpha=local_alpha, \n",
        "                  local_dispersion=local_dispersion)"
      ],
      "metadata": {
        "id": "yY9Fh3JR1rQy"
      },
      "execution_count": 6,
      "outputs": []
    },
    {
      "cell_type": "markdown",
      "source": [
        "The `Synchrotron` class stores most global lattice parameters:"
      ],
      "metadata": {
        "id": "D41nqm3b2aqH"
      }
    },
    {
      "cell_type": "code",
      "source": [
        "ring = Synchrotron(h=h, optics=optics, particle=particle, L=L, E0=E0, ac=ac, \n",
        "                   U0=U0, tau=tau, emit=emit, tune=tune, \n",
        "                   sigma_delta=sigma_delta, sigma_0=sigma_0, chro=chro)"
      ],
      "metadata": {
        "id": "WiPq6SDLvbjC"
      },
      "execution_count": 7,
      "outputs": []
    },
    {
      "cell_type": "markdown",
      "source": [
        "Now the `Synchrotron` object can be used:"
      ],
      "metadata": {
        "id": "sP2NaRwt3yRM"
      }
    },
    {
      "cell_type": "code",
      "source": [
        "ring.T0 # Revolution time in [s]."
      ],
      "metadata": {
        "colab": {
          "base_uri": "https://localhost:8080/"
        },
        "id": "fr96wM893xLc",
        "outputId": "f02765fe-dba9-4065-a4f9-b0ffdd1ec727"
      },
      "execution_count": 8,
      "outputs": [
        {
          "output_type": "execute_result",
          "data": {
            "text/plain": [
              "3.3356409519815204e-07"
            ]
          },
          "metadata": {},
          "execution_count": 8
        }
      ]
    },
    {
      "cell_type": "code",
      "source": [
        "ring.f1 # Fundamental RF frequency in [Hz]."
      ],
      "metadata": {
        "colab": {
          "base_uri": "https://localhost:8080/"
        },
        "id": "EDTia9Ol5IGk",
        "outputId": "8172e2d6-39c0-4517-9b43-f6c7b0ba2888"
      },
      "execution_count": 9,
      "outputs": [
        {
          "output_type": "execute_result",
          "data": {
            "text/plain": [
              "59958491.6"
            ]
          },
          "metadata": {},
          "execution_count": 9
        }
      ]
    },
    {
      "cell_type": "code",
      "source": [
        "ring.gamma # Relativistic Lorentz gamma."
      ],
      "metadata": {
        "colab": {
          "base_uri": "https://localhost:8080/"
        },
        "id": "EBsio2fw5PCU",
        "outputId": "c37eab63-70cb-4806-b03d-ee4306bdaf0d"
      },
      "execution_count": 10,
      "outputs": [
        {
          "output_type": "execute_result",
          "data": {
            "text/plain": [
              "2935.42677536081"
            ]
          },
          "metadata": {},
          "execution_count": 10
        }
      ]
    },
    {
      "cell_type": "markdown",
      "source": [
        "Most class attributes in mbtrack are dynamically linked when possible:"
      ],
      "metadata": {
        "id": "Jemrr4Ey5nZu"
      }
    },
    {
      "cell_type": "code",
      "source": [
        "ring.T0 = 1e-6 # Revolution time in [s].\n",
        "ring.L # Ring circumference in [m]."
      ],
      "metadata": {
        "colab": {
          "base_uri": "https://localhost:8080/"
        },
        "id": "lf5h3gTj5xGk",
        "outputId": "dc0ed219-b635-4a13-a99b-10c04136cdcc"
      },
      "execution_count": 11,
      "outputs": [
        {
          "output_type": "execute_result",
          "data": {
            "text/plain": [
              "299.792458"
            ]
          },
          "metadata": {},
          "execution_count": 11
        }
      ]
    },
    {
      "cell_type": "markdown",
      "source": [
        "An Accelerator Toolbox (AT) format lattice can also be loaded using:\n",
        "\n",
        "\n",
        "```\n",
        "optics = Optics(lattice_file=lattice_file)\n",
        "ring = Synchrotron(h, optics, particle)\n",
        "```\n",
        "In that case, the AT lattice paramters are used to fill the `Synchrotron` object.\n"
      ],
      "metadata": {
        "id": "_-sj3Jlu37Rc"
      }
    },
    {
      "cell_type": "markdown",
      "source": [
        "Main conventions used:\n",
        "+ mbtrack2 uses SI units.\n",
        "+ the arrays are strcutured as `[horizontal_value, vertical_value, longitudinal_value]`."
      ],
      "metadata": {
        "id": "ZriCgRYIzkvr"
      }
    },
    {
      "cell_type": "markdown",
      "source": [
        "# Bunch and Beam objects"
      ],
      "metadata": {
        "id": "OW9YgunevfKb"
      }
    },
    {
      "cell_type": "code",
      "source": [
        "from mbtrack2.tracking import Bunch, Beam"
      ],
      "metadata": {
        "id": "ne2yGLJ06s6O"
      },
      "execution_count": 12,
      "outputs": []
    },
    {
      "cell_type": "markdown",
      "source": [
        "## Bunch"
      ],
      "metadata": {
        "id": "TCu24f639KrW"
      }
    },
    {
      "cell_type": "markdown",
      "source": [
        "Defines a `Bunch` object with 5 macro-particles and a current of 1 mA:"
      ],
      "metadata": {
        "id": "k9_SrmgK-gSN"
      }
    },
    {
      "cell_type": "code",
      "source": [
        "mybunch = Bunch(ring, mp_number=5, current=1e-3)\n",
        "mybunch"
      ],
      "metadata": {
        "colab": {
          "base_uri": "https://localhost:8080/"
        },
        "id": "FSu6AiVB62bd",
        "outputId": "42a9f761-a130-4e2a-89aa-33e9b089a8c5"
      },
      "execution_count": 13,
      "outputs": [
        {
          "output_type": "execute_result",
          "data": {
            "text/plain": [
              "     x   xp    y   yp  tau  delta\n",
              "0  0.0  0.0  0.0  0.0  0.0    0.0\n",
              "1  0.0  0.0  0.0  0.0  0.0    0.0\n",
              "2  0.0  0.0  0.0  0.0  0.0    0.0\n",
              "3  0.0  0.0  0.0  0.0  0.0    0.0\n",
              "4  0.0  0.0  0.0  0.0  0.0    0.0"
            ]
          },
          "metadata": {},
          "execution_count": 13
        }
      ]
    },
    {
      "cell_type": "markdown",
      "source": [
        "The coordinates for a single dimension can be accessed by brackets:"
      ],
      "metadata": {
        "id": "-ZLDs32W-rxN"
      }
    },
    {
      "cell_type": "code",
      "source": [
        "mybunch[\"x\"]"
      ],
      "metadata": {
        "colab": {
          "base_uri": "https://localhost:8080/"
        },
        "id": "fYYWiGaH8PGt",
        "outputId": "ad49234e-b9d9-4df7-bcb9-8c7cc6bbed30"
      },
      "execution_count": 14,
      "outputs": [
        {
          "output_type": "execute_result",
          "data": {
            "text/plain": [
              "array([0., 0., 0., 0., 0.])"
            ]
          },
          "metadata": {},
          "execution_count": 14
        }
      ]
    },
    {
      "cell_type": "code",
      "source": [
        "mybunch[\"x\"] += 1e-3 # add 1 mm offset in horizontal dimension\n",
        "mybunch"
      ],
      "metadata": {
        "colab": {
          "base_uri": "https://localhost:8080/"
        },
        "id": "qHfFJlD38SVE",
        "outputId": "270b7372-3b78-40a8-a903-27a2565bc7bf"
      },
      "execution_count": 15,
      "outputs": [
        {
          "output_type": "execute_result",
          "data": {
            "text/plain": [
              "       x   xp    y   yp  tau  delta\n",
              "0  0.001  0.0  0.0  0.0  0.0    0.0\n",
              "1  0.001  0.0  0.0  0.0  0.0    0.0\n",
              "2  0.001  0.0  0.0  0.0  0.0    0.0\n",
              "3  0.001  0.0  0.0  0.0  0.0    0.0\n",
              "4  0.001  0.0  0.0  0.0  0.0    0.0"
            ]
          },
          "metadata": {},
          "execution_count": 15
        }
      ]
    },
    {
      "cell_type": "markdown",
      "source": [
        "Initialize the bunch macro-particles to have gaussian distribution corresponding to the `Synchrotron` object equilibrium parameters:"
      ],
      "metadata": {
        "id": "vtAPNcAX_CX9"
      }
    },
    {
      "cell_type": "code",
      "source": [
        "mybunch.init_gaussian()\n",
        "mybunch"
      ],
      "metadata": {
        "colab": {
          "base_uri": "https://localhost:8080/"
        },
        "id": "bfquwwF28GZN",
        "outputId": "8722011d-f53b-41bc-f62b-82dde543ca30"
      },
      "execution_count": 16,
      "outputs": [
        {
          "output_type": "execute_result",
          "data": {
            "text/plain": [
              "          x        xp         y            yp           tau     delta\n",
              "0  0.000167  0.000046 -0.000002  4.894223e-09  1.457217e-11  0.001107\n",
              "1  0.000038  0.000056 -0.000002  4.666150e-08  1.420120e-11  0.000039\n",
              "2 -0.000207  0.000101 -0.000004  3.270033e-07 -6.484481e-13 -0.000225\n",
              "3  0.000021 -0.000059  0.000006  1.318513e-06  5.321753e-12  0.000392\n",
              "4 -0.000121 -0.000001 -0.000003  9.332312e-07  8.391381e-12 -0.001752"
            ]
          },
          "metadata": {},
          "execution_count": 16
        }
      ]
    },
    {
      "cell_type": "markdown",
      "source": [
        "Compute statistical quantities for each dimensions:"
      ],
      "metadata": {
        "id": "rQg66J_a-Kmf"
      }
    },
    {
      "cell_type": "code",
      "source": [
        "mybunch.mean # Mean position of alive particles for each coordinates."
      ],
      "metadata": {
        "colab": {
          "base_uri": "https://localhost:8080/"
        },
        "id": "goQf8y_Z9msV",
        "outputId": "bb1545f5-aa67-48bb-9e6b-13ec4be6405a"
      },
      "execution_count": 17,
      "outputs": [
        {
          "output_type": "execute_result",
          "data": {
            "text/plain": [
              "array([-2.04253187e-05,  2.84766408e-05, -1.02548257e-06,  5.26060679e-07,\n",
              "        8.36761243e-12, -8.74502667e-05])"
            ]
          },
          "metadata": {},
          "execution_count": 17
        }
      ]
    },
    {
      "cell_type": "code",
      "source": [
        "mybunch.std # Standard deviation of the position of alive particles for each coordinates."
      ],
      "metadata": {
        "colab": {
          "base_uri": "https://localhost:8080/"
        },
        "outputId": "b700219a-88ac-44e5-9cd2-43f472af7868",
        "id": "WGSbxuqz9yd-"
      },
      "execution_count": 18,
      "outputs": [
        {
          "output_type": "execute_result",
          "data": {
            "text/plain": [
              "array([1.30383610e-04, 5.45947452e-05, 3.61563036e-06, 5.16687649e-07,\n",
              "       5.71129630e-12, 9.44617132e-04])"
            ]
          },
          "metadata": {},
          "execution_count": 18
        }
      ]
    },
    {
      "cell_type": "code",
      "source": [
        "mybunch.emit # Bunch emittance for each plane."
      ],
      "metadata": {
        "colab": {
          "base_uri": "https://localhost:8080/"
        },
        "outputId": "c2350594-0511-410f-8f8e-c7aa0da49dfe",
        "id": "wVxnRwNa92dP"
      },
      "execution_count": 19,
      "outputs": [
        {
          "output_type": "execute_result",
          "data": {
            "text/plain": [
              "array([7.75559963e-09, 2.67753601e-12, 9.57351816e-15])"
            ]
          },
          "metadata": {},
          "execution_count": 19
        }
      ]
    },
    {
      "cell_type": "markdown",
      "source": [
        "Change the bunch current:"
      ],
      "metadata": {
        "id": "wxGJdCug_toP"
      }
    },
    {
      "cell_type": "code",
      "source": [
        "mybunch.current # bunch current in [A]"
      ],
      "metadata": {
        "colab": {
          "base_uri": "https://localhost:8080/"
        },
        "id": "zvogt_6F8qf9",
        "outputId": "f54017d3-675b-48a7-c772-bce93d698ef7"
      },
      "execution_count": 20,
      "outputs": [
        {
          "output_type": "execute_result",
          "data": {
            "text/plain": [
              "0.001"
            ]
          },
          "metadata": {},
          "execution_count": 20
        }
      ]
    },
    {
      "cell_type": "code",
      "source": [
        "mybunch.charge = 5e-9 # charge in [C]\n",
        "mybunch.current"
      ],
      "metadata": {
        "colab": {
          "base_uri": "https://localhost:8080/"
        },
        "id": "YjJnW_bS83M-",
        "outputId": "ab03a128-d114-4778-a636-2b930e3433a5"
      },
      "execution_count": 21,
      "outputs": [
        {
          "output_type": "execute_result",
          "data": {
            "text/plain": [
              "0.005"
            ]
          },
          "metadata": {},
          "execution_count": 21
        }
      ]
    },
    {
      "cell_type": "markdown",
      "source": [
        "This boolean array shows which macro-particles are still \"alive\" and thoses which are lost:"
      ],
      "metadata": {
        "id": "iwvnYOC3Goiz"
      }
    },
    {
      "cell_type": "code",
      "source": [
        "mybunch.alive"
      ],
      "metadata": {
        "colab": {
          "base_uri": "https://localhost:8080/"
        },
        "id": "ecLdAvVGGowh",
        "outputId": "6ced438c-f9b7-45bf-b8e7-ea6d15fdabf5"
      },
      "execution_count": 22,
      "outputs": [
        {
          "output_type": "execute_result",
          "data": {
            "text/plain": [
              "array([ True,  True,  True,  True,  True])"
            ]
          },
          "metadata": {},
          "execution_count": 22
        }
      ]
    },
    {
      "cell_type": "code",
      "source": [
        "mybunch.alive[2] = False\n",
        "mybunch.alive"
      ],
      "metadata": {
        "colab": {
          "base_uri": "https://localhost:8080/"
        },
        "id": "5LD2UhGzGwXh",
        "outputId": "9716ec4d-34b6-4171-fc91-b2379a7348f4"
      },
      "execution_count": 23,
      "outputs": [
        {
          "output_type": "execute_result",
          "data": {
            "text/plain": [
              "array([ True,  True, False,  True,  True])"
            ]
          },
          "metadata": {},
          "execution_count": 23
        }
      ]
    },
    {
      "cell_type": "markdown",
      "source": [
        "Lost marco-particles are no longer taken in account for the tracking or to compute bunch parameters:"
      ],
      "metadata": {
        "id": "9rHqIEbiH0W6"
      }
    },
    {
      "cell_type": "code",
      "source": [
        "mybunch.current"
      ],
      "metadata": {
        "colab": {
          "base_uri": "https://localhost:8080/"
        },
        "id": "ZM0TIBMQHCIh",
        "outputId": "65c6f44d-e2bf-494e-b35f-14685f7d79f1"
      },
      "execution_count": 24,
      "outputs": [
        {
          "output_type": "execute_result",
          "data": {
            "text/plain": [
              "0.004"
            ]
          },
          "metadata": {},
          "execution_count": 24
        }
      ]
    },
    {
      "cell_type": "code",
      "source": [
        "mybunch"
      ],
      "metadata": {
        "colab": {
          "base_uri": "https://localhost:8080/"
        },
        "id": "VvJr03_fG2-R",
        "outputId": "36099b32-542c-4d96-db6a-e8f4ae7740dd"
      },
      "execution_count": 25,
      "outputs": [
        {
          "output_type": "execute_result",
          "data": {
            "text/plain": [
              "          x        xp         y            yp           tau     delta\n",
              "0  0.000167  0.000046 -0.000002  4.894223e-09  1.457217e-11  0.001107\n",
              "1  0.000038  0.000056 -0.000002  4.666150e-08  1.420120e-11  0.000039\n",
              "2  0.000021 -0.000059  0.000006  1.318513e-06  5.321753e-12  0.000392\n",
              "3 -0.000121 -0.000001 -0.000003  9.332312e-07  8.391381e-12 -0.001752"
            ]
          },
          "metadata": {},
          "execution_count": 25
        }
      ]
    },
    {
      "cell_type": "markdown",
      "source": [
        "## Beam"
      ],
      "metadata": {
        "id": "P63zTaJy9ODW"
      }
    },
    {
      "cell_type": "markdown",
      "source": [
        "The `Beam` class is defined like an array container for `Bunch` objects:"
      ],
      "metadata": {
        "id": "uhXjn-9OFprq"
      }
    },
    {
      "cell_type": "code",
      "source": [
        "mybeam = Beam(ring) # define an empty beam\n",
        "mybeam[0] # no bunch in the 1st RF bucket as the beam is empty"
      ],
      "metadata": {
        "colab": {
          "base_uri": "https://localhost:8080/"
        },
        "id": "-BvT1LHlLG0x",
        "outputId": "2187874a-ef74-4525-eeac-2aa8d7ba70c8"
      },
      "execution_count": 26,
      "outputs": [
        {
          "output_type": "execute_result",
          "data": {
            "text/plain": [
              "Empty DataFrame\n",
              "Columns: [x, xp, y, yp, tau, delta]\n",
              "Index: []"
            ]
          },
          "metadata": {},
          "execution_count": 26
        }
      ]
    },
    {
      "cell_type": "markdown",
      "source": [
        "Define a filling pattern for our beam:"
      ],
      "metadata": {
        "id": "ksWbaINQMW_B"
      }
    },
    {
      "cell_type": "code",
      "source": [
        "filling_pattern = np.zeros(ring.h) # empty array of size ring.h\n",
        "filling_pattern[0:10] = 10e-3 # the first 10 bunches will be filled with 10 mA\n",
        "filling_pattern[10:15] = 5e-3\n",
        "filling_pattern[15:20] = 20e-3"
      ],
      "metadata": {
        "id": "Gu6w6ARULRGw"
      },
      "execution_count": 27,
      "outputs": []
    },
    {
      "cell_type": "markdown",
      "source": [
        "Initialize our `Beam` object with a given filling pattern and 1000 macro-particles per bunch:"
      ],
      "metadata": {
        "id": "Q00sKqy0LYLC"
      }
    },
    {
      "cell_type": "code",
      "source": [
        "mybeam.init_beam(filling_pattern, mp_per_bunch=1e3)"
      ],
      "metadata": {
        "id": "4y4gLQpPxKdi"
      },
      "execution_count": 28,
      "outputs": []
    },
    {
      "cell_type": "markdown",
      "source": [
        "It is possible to access the bunch located in the $n^{th}$ RF bucket using brackets:  "
      ],
      "metadata": {
        "id": "QfGks1tzNAYK"
      }
    },
    {
      "cell_type": "code",
      "source": [
        "mybeam[5]"
      ],
      "metadata": {
        "colab": {
          "base_uri": "https://localhost:8080/"
        },
        "id": "OrlG-LEJM5ci",
        "outputId": "da5b387e-47cc-4265-e9e1-f178fe687384"
      },
      "execution_count": 29,
      "outputs": [
        {
          "output_type": "execute_result",
          "data": {
            "text/plain": [
              "            x        xp             y            yp           tau     delta\n",
              "0    0.000037  0.000013 -2.543095e-06 -3.101018e-06 -5.087891e-12 -0.000737\n",
              "1    0.000151 -0.000016  1.353694e-06 -1.118413e-06  2.142205e-11 -0.002040\n",
              "2    0.000243  0.000058 -9.433485e-06  2.594158e-06 -1.413505e-11 -0.001256\n",
              "3    0.000073  0.000027 -5.027011e-06 -1.140515e-06  9.855368e-12  0.000943\n",
              "4    0.000313 -0.000049 -3.378621e-06  5.712363e-07  6.575415e-12  0.000779\n",
              "..        ...       ...           ...           ...           ...       ...\n",
              "995  0.000141  0.000114 -7.730607e-07 -2.298574e-06 -2.496193e-11 -0.001145\n",
              "996 -0.000186  0.000093 -1.313724e-06  1.201262e-07 -7.894270e-12  0.000171\n",
              "997  0.000118  0.000121 -2.254755e-06 -2.044996e-06  2.706899e-11  0.001132\n",
              "998  0.000321 -0.000103  3.128740e-06 -1.435538e-06 -2.266196e-11 -0.000669\n",
              "999  0.000009 -0.000026  1.678159e-06 -9.540326e-08 -1.267561e-11 -0.001505\n",
              "\n",
              "[1000 rows x 6 columns]"
            ]
          },
          "metadata": {},
          "execution_count": 29
        }
      ]
    },
    {
      "cell_type": "markdown",
      "source": [
        "Beam and bunch parameters can be accessed:"
      ],
      "metadata": {
        "id": "20bTKa2cNqAy"
      }
    },
    {
      "cell_type": "code",
      "source": [
        "mybeam.current # Total beam current in [A]"
      ],
      "metadata": {
        "colab": {
          "base_uri": "https://localhost:8080/"
        },
        "id": "J8FQ-O9UN5KB",
        "outputId": "848f997c-fcb8-4348-a2cd-fc6acc0ca03c"
      },
      "execution_count": 30,
      "outputs": [
        {
          "output_type": "execute_result",
          "data": {
            "text/plain": [
              "0.22499999999999998"
            ]
          },
          "metadata": {},
          "execution_count": 30
        }
      ]
    },
    {
      "cell_type": "code",
      "source": [
        "mybeam.bunch_current # Current in each bunch in [A]"
      ],
      "metadata": {
        "colab": {
          "base_uri": "https://localhost:8080/"
        },
        "id": "rHVy7Yc4N5OR",
        "outputId": "96296c9f-9f90-444f-d6d2-8406f08e39bb"
      },
      "execution_count": 31,
      "outputs": [
        {
          "output_type": "execute_result",
          "data": {
            "text/plain": [
              "array([0.01 , 0.01 , 0.01 , 0.01 , 0.01 , 0.01 , 0.01 , 0.01 , 0.01 ,\n",
              "       0.01 , 0.005, 0.005, 0.005, 0.005, 0.005, 0.02 , 0.02 , 0.02 ,\n",
              "       0.02 , 0.02 ])"
            ]
          },
          "metadata": {},
          "execution_count": 31
        }
      ]
    },
    {
      "cell_type": "code",
      "source": [
        "fig = mybeam.plot(\"bunch_current\")"
      ],
      "metadata": {
        "colab": {
          "base_uri": "https://localhost:8080/",
          "height": 279
        },
        "id": "ojlDHKd0L3QB",
        "outputId": "21f488db-edf2-49eb-d5de-f3124f9edac5"
      },
      "execution_count": 32,
      "outputs": [
        {
          "output_type": "display_data",
          "data": {
            "text/plain": [
              "<Figure size 432x288 with 1 Axes>"
            ],
            "image/png": "[encoded data removed]"
          },
          "metadata": {
            "needs_background": "light"
          }
        }
      ]
    },
    {
      "cell_type": "code",
      "source": [
        "fig = mybeam.plot(\"bunch_emit\",\"x\")"
      ],
      "metadata": {
        "colab": {
          "base_uri": "https://localhost:8080/",
          "height": 282
        },
        "id": "giCTESPhZHLg",
        "outputId": "56b2c620-b4f0-4028-9aaf-7eb73e5540fc"
      },
      "execution_count": 33,
      "outputs": [
        {
          "output_type": "display_data",
          "data": {
            "text/plain": [
              "<Figure size 432x288 with 1 Axes>"
            ],
            "image/png": "[encoded data removed]"
          },
          "metadata": {
            "needs_background": "light"
          }
        }
      ]
    },
    {
      "cell_type": "markdown",
      "source": [
        "# Tracking"
      ],
      "metadata": {
        "id": "bT_CpT4F_0tv"
      }
    },
    {
      "cell_type": "markdown",
      "source": [
        "In mbtrack2, tracking is done by calling the `track` method from different objects. This `track` method applies a transformation to the macro-particles coordinates."
      ],
      "metadata": {
        "id": "N09YgveY55Qc"
      }
    },
    {
      "cell_type": "code",
      "source": [
        "from time import time\n",
        "from mbtrack2.tracking import LongitudinalMap, RFCavity, SynchrotronRadiation, TransverseMap"
      ],
      "metadata": {
        "id": "1B4FWH3oKA3m"
      },
      "execution_count": 34,
      "outputs": []
    },
    {
      "cell_type": "markdown",
      "source": [
        "For example, the `LongitudinalMap` element applies the following transform:\n",
        "+ $\\tau = \\tau + \\eta T_0 \\delta $ \n",
        "+ $\\delta = \\delta - \\frac{U_0}{E_0}$\n",
        "\n",
        "Which corresponds to the transformation of the longitudinal coordinates ($\\tau$, $\\delta$) undergoes during a full turn in the synchrotron."
      ],
      "metadata": {
        "id": "voyxGQfF61pb"
      }
    },
    {
      "cell_type": "code",
      "source": [
        "LongMap = LongitudinalMap(ring) # define the LongitudinalMap element with the ring parameters\n",
        "mybunch = Bunch(ring, mp_number=1e3, current=1e-3)\n",
        "mybunch.init_gaussian()\n",
        "print(mybunch[\"tau\"][:4])\n",
        "print(mybunch[\"delta\"][:4])"
      ],
      "metadata": {
        "id": "hZJ-vdJmKWK6",
        "colab": {
          "base_uri": "https://localhost:8080/"
        },
        "outputId": "39d58c3a-0e88-4993-cc8b-28d67842ee6e"
      },
      "execution_count": 35,
      "outputs": [
        {
          "output_type": "stream",
          "name": "stdout",
          "text": [
            "[-7.27549489e-12  8.78655955e-12  2.55199689e-13 -4.54617690e-12]\n",
            "[ 9.21247316e-04 -2.40770241e-05 -7.01691843e-04 -1.33450086e-03]\n"
          ]
        }
      ]
    },
    {
      "cell_type": "markdown",
      "source": [
        "Tracking the `Bunch` object through the `LongitudinalMap` is done by calling its `track` method with the `Bunch` object as argument."
      ],
      "metadata": {
        "id": "usQ3ju5copUP"
      }
    },
    {
      "cell_type": "code",
      "source": [
        "LongMap.track(mybunch)\n",
        "print(mybunch[\"tau\"][:4])\n",
        "print(mybunch[\"delta\"][:4])"
      ],
      "metadata": {
        "colab": {
          "base_uri": "https://localhost:8080/"
        },
        "id": "RjbOCdSnoIzn",
        "outputId": "27ff1d06-2a13-430c-b0e7-6c4b74e2731b"
      },
      "execution_count": 36,
      "outputs": [
        {
          "output_type": "stream",
          "name": "stdout",
          "text": [
            "[-6.48758091e-12  8.62914919e-12 -5.79825488e-13 -6.01401109e-12]\n",
            "[ 0.00078791 -0.00015741 -0.00083503 -0.00146783]\n"
          ]
        }
      ]
    },
    {
      "cell_type": "markdown",
      "source": [
        "In a similar way, the `RFCavity` element applies:\n",
        "\n",
        "$\\delta = \\delta +  \\frac{V_c}{E_0} \\cos(m \\omega_1 \\tau + \\theta)$"
      ],
      "metadata": {
        "id": "xIN0ZXla6PsU"
      }
    },
    {
      "cell_type": "code",
      "source": [
        "RF = RFCavity(ring, m=1, Vc=1e6, theta=np.arccos(ring.U0/1e6))"
      ],
      "metadata": {
        "id": "-R_INXI-KaJW"
      },
      "execution_count": 37,
      "outputs": []
    },
    {
      "cell_type": "markdown",
      "source": [
        "The `SynchrotronRadiation` element applies:\n",
        "\n",
        "$z = \\delta, x', y'$\n",
        "\n",
        "\\begin{equation}\n",
        "    z = \\left (1 - \\frac{2 T_0}{\\tau_z} \\right) z + 2 \\sigma_{z} \\sqrt{\\frac{T_0}{\\tau_z}} \\times \\epsilon\n",
        "\\end{equation}\n",
        "\n",
        "Where $z$ is a generic coordinate which can be $\\delta$, $x'$ or $y'$."
      ],
      "metadata": {
        "id": "5_BDWbbiD4fI"
      }
    },
    {
      "cell_type": "code",
      "source": [
        "SR = SynchrotronRadiation(ring)"
      ],
      "metadata": {
        "id": "_IE_nYL8KrB3"
      },
      "execution_count": 38,
      "outputs": []
    },
    {
      "cell_type": "markdown",
      "source": [
        "The `TransverseMap` element applies:\n",
        "\n",
        "\\begin{equation}\n",
        "\\Delta \\mu = 2 \\pi (Q + \\xi \\delta)\n",
        "\\end{equation}\n",
        "\n",
        "\\begin{equation}\n",
        "    M = M_{s_0 \\rightarrow s_0} =\n",
        "    \\begin{bmatrix}\n",
        "        \\cos(\\Delta \\mu) + \\alpha_0 \\sin(\\Delta \\mu) & \\beta_0 \\sin(\\Delta \\mu) & D_0 \\\\\n",
        "        - \\gamma_0 \\sin(\\Delta \\mu) & \\cos(\\Delta \\mu) - \\alpha_0 \\sin(\\Delta \\mu) & D_0'\n",
        "    \\end{bmatrix}\n",
        "\\end{equation}\n",
        "\n",
        "\\begin{equation}\n",
        "    \\begin{bmatrix}\n",
        "        z\\\\\n",
        "        z'\n",
        "    \\end{bmatrix}\n",
        "    =\n",
        "    M\n",
        "    \\begin{bmatrix}\n",
        "        z\\\\\n",
        "        z'\n",
        "    \\end{bmatrix}\n",
        "\\end{equation}\n",
        "\n",
        "Where $z$ is a generic coordinate which can be $x$ or $y$."
      ],
      "metadata": {
        "id": "YYQ3QBMR_HUQ"
      }
    },
    {
      "cell_type": "code",
      "source": [
        "TransMap = TransverseMap(ring)"
      ],
      "metadata": {
        "id": "SZGpmbe2q4yf"
      },
      "execution_count": 39,
      "outputs": []
    },
    {
      "cell_type": "markdown",
      "source": [
        "Tracking for many turns in then done by writing a python script using a for loop"
      ],
      "metadata": {
        "id": "SlDlcXVHkzW4"
      }
    },
    {
      "cell_type": "code",
      "source": [
        "turns = 100\n",
        "t1 = time()\n",
        "for i in range(turns):\n",
        "  LongMap.track(mybunch)\n",
        "  SR.track(mybunch)\n",
        "  TransMap.track(mybunch)\n",
        "  RF.track(mybunch)\n",
        "t2 = time()\n",
        "print(t2-t1)"
      ],
      "metadata": {
        "colab": {
          "base_uri": "https://localhost:8080/"
        },
        "id": "1zJFHqgwkZKY",
        "outputId": "48870601-c1d9-416f-c974-ad8bc4c5c4d3"
      },
      "execution_count": 40,
      "outputs": [
        {
          "output_type": "stream",
          "name": "stdout",
          "text": [
            "0.12813210487365723\n"
          ]
        }
      ]
    },
    {
      "cell_type": "markdown",
      "source": [
        "Tracking methods can be used indiscriminately on `Bunch` or `Beam` objects "
      ],
      "metadata": {
        "id": "ICxTFwCJjmqp"
      }
    },
    {
      "cell_type": "code",
      "source": [
        "filling_pattern = np.ones(ring.h)*1e-3 # uniform beam with 1 mA per bunch\n",
        "mybeam = Beam(ring)\n",
        "mybeam.init_beam(filling_pattern, mp_per_bunch=1e3)"
      ],
      "metadata": {
        "id": "ZpkQ7e-2xT7y"
      },
      "execution_count": 41,
      "outputs": []
    },
    {
      "cell_type": "markdown",
      "source": [
        "Tracking with `Beam` object can be quite long as the code does an internal loop over all the `Bunch` objects:"
      ],
      "metadata": {
        "id": "AjdjBpk1iu3j"
      }
    },
    {
      "cell_type": "code",
      "source": [
        "turns = 100\n",
        "t1 = time()\n",
        "for i in range(turns):\n",
        "  LongMap.track(mybeam)\n",
        "  SR.track(mybeam)\n",
        "  TransMap.track(mybeam)\n",
        "  RF.track(mybeam)\n",
        "t2 = time()\n",
        "print(t2-t1)"
      ],
      "metadata": {
        "id": "OaJIa4oaIugh",
        "colab": {
          "base_uri": "https://localhost:8080/"
        },
        "outputId": "4458f48e-19e4-4ff2-f049-3a2167358fc1"
      },
      "execution_count": 42,
      "outputs": [
        {
          "output_type": "stream",
          "name": "stdout",
          "text": [
            "2.297656536102295\n"
          ]
        }
      ]
    },
    {
      "cell_type": "markdown",
      "source": [
        "## Using MPI"
      ],
      "metadata": {
        "id": "YqJtFL_OIvSq"
      }
    },
    {
      "cell_type": "markdown",
      "source": [
        "MPI can be used to speed up the tracking when using a `Beam` object by distributing the different `Bunch` objects in different cores.\n",
        "\n",
        "To be able to use this feature, **the python code must be run with as many core as there is of `Bunch` objects in the `Beam`.**"
      ],
      "metadata": {
        "id": "KmnutEIbrZgf"
      }
    },
    {
      "cell_type": "markdown",
      "source": [
        "MPI parallelisation can be enabled during ``Beam`` initialization by setting the ``mpi`` option to ``True``:"
      ],
      "metadata": {
        "id": "dQLd4_Rym5oz"
      }
    },
    {
      "cell_type": "markdown",
      "source": [
        "\n",
        "\n",
        "```\n",
        "mybeam = Beam(ring)\n",
        "mybeam.init_beam(filling_pattern, mp_per_bunch=1e3, mpi=True)\n",
        "```\n",
        "\n"
      ],
      "metadata": {
        "id": "Le0RaqmJIeaO"
      }
    },
    {
      "cell_type": "markdown",
      "source": [
        "# Monitors"
      ],
      "metadata": {
        "id": "a_B5YgHFHaIA"
      }
    },
    {
      "cell_type": "markdown",
      "source": [
        "The ``Monitor`` class and subclasses are used to save tracking data into HDF5 files."
      ],
      "metadata": {
        "id": "O0D4eU01Jrs2"
      }
    },
    {
      "cell_type": "code",
      "source": [
        "from mbtrack2.tracking.monitors import BunchMonitor, BeamMonitor"
      ],
      "metadata": {
        "id": "IXvFc9gZL5Vc"
      },
      "execution_count": 43,
      "outputs": []
    },
    {
      "cell_type": "markdown",
      "source": [
        "All classes which inherit from the ``Monitor`` class are linked together and write data to the same HDF5 file which is specify by the ``file_name`` keyword in the first declaration of a ``Monitor``."
      ],
      "metadata": {
        "id": "kU1-MsaaEejd"
      }
    },
    {
      "cell_type": "code",
      "source": [
        "bunchmonitor = BunchMonitor(bunch_number=0, total_size=100, save_every=1, buffer_size=10, mpi_mode=False, file_name=\"tracking\")\n",
        "beammonitor = BeamMonitor(h=ring.h, total_size=100, save_every=1, buffer_size=10, mpi_mode=False)"
      ],
      "metadata": {
        "id": "5fEfD7M0Hb_A"
      },
      "execution_count": 44,
      "outputs": []
    },
    {
      "cell_type": "markdown",
      "source": [
        "The different types of ``Monitor`` can then be added in the tracking loop and save data when the ``track`` method is called.\n",
        "\n",
        "At the end of the tracking, the file where the data is written must be closed by calling the ``close`` method on any of the ``Monitor``."
      ],
      "metadata": {
        "id": "a_5S7vnMFoC8"
      }
    },
    {
      "cell_type": "code",
      "source": [
        "turns = 100\n",
        "for i in range(turns):\n",
        "  LongMap.track(mybeam)\n",
        "  SR.track(mybeam)\n",
        "  TransMap.track(mybeam)\n",
        "  RF.track(mybeam)\n",
        "  bunchmonitor.track(mybeam)\n",
        "  beammonitor.track(mybeam)\n",
        "bunchmonitor.close()"
      ],
      "metadata": {
        "id": "Nx0jrcSxL2MN"
      },
      "execution_count": 45,
      "outputs": []
    },
    {
      "cell_type": "markdown",
      "source": [
        "The tracking data can then be read from the file after the tracking.\n",
        "\n",
        "A possible solution to do that is to use the ``h5py`` package:"
      ],
      "metadata": {
        "id": "KjIYMfH4Ti1Z"
      }
    },
    {
      "cell_type": "code",
      "source": [
        "import h5py as hp"
      ],
      "metadata": {
        "id": "XlN6ZOVYUehV"
      },
      "execution_count": 46,
      "outputs": []
    },
    {
      "cell_type": "code",
      "source": [
        "file = hp.File(\"tracking.hdf5\",\"r\")"
      ],
      "metadata": {
        "id": "G7GxJNryUx8u"
      },
      "execution_count": 47,
      "outputs": []
    },
    {
      "cell_type": "markdown",
      "source": [
        "Each ``Monitor`` create a different folder at root of the file, so this file has a structure:"
      ],
      "metadata": {
        "id": "wkTdsKeMAF3k"
      }
    },
    {
      "cell_type": "code",
      "source": [
        "list(file)"
      ],
      "metadata": {
        "id": "dBx5xVOGU4x-",
        "outputId": "a2720b5f-d88c-4cc5-8d0a-b1877686c1cd",
        "colab": {
          "base_uri": "https://localhost:8080/"
        }
      },
      "execution_count": 48,
      "outputs": [
        {
          "output_type": "execute_result",
          "data": {
            "text/plain": [
              "['Beam', 'BunchData_0']"
            ]
          },
          "metadata": {},
          "execution_count": 48
        }
      ]
    },
    {
      "cell_type": "markdown",
      "source": [
        "Each folder (called group in ``h5py`` jargon) contains datasets:"
      ],
      "metadata": {
        "id": "b5LmJiirAiL8"
      }
    },
    {
      "cell_type": "code",
      "source": [
        "list(file[\"Beam\"])"
      ],
      "metadata": {
        "id": "innjiKx7XfEf",
        "outputId": "eb999b39-23a2-46a3-99dc-0eee14a10417",
        "colab": {
          "base_uri": "https://localhost:8080/"
        }
      },
      "execution_count": 49,
      "outputs": [
        {
          "output_type": "execute_result",
          "data": {
            "text/plain": [
              "['current', 'emit', 'mean', 'std', 'time']"
            ]
          },
          "metadata": {},
          "execution_count": 49
        }
      ]
    },
    {
      "cell_type": "markdown",
      "source": [
        "These datasets contain the tracking data and can be converted to numpy arrays:"
      ],
      "metadata": {
        "id": "-eV9WuZwBXoy"
      }
    },
    {
      "cell_type": "code",
      "source": [
        "print(np.array(file[\"Beam\"][\"emit\"]).shape)\n",
        "print(np.array(file[\"Beam\"][\"emit\"][0,0,:20])) # print the horizontal emittance of the 1st bunch for the first 20 turns\n"
      ],
      "metadata": {
        "id": "Z1W-9Fg8WAUe",
        "outputId": "458e54d5-5577-4ab0-bcdb-61085f3cd906",
        "colab": {
          "base_uri": "https://localhost:8080/"
        }
      },
      "execution_count": 50,
      "outputs": [
        {
          "output_type": "stream",
          "name": "stdout",
          "text": [
            "(3, 20, 100)\n",
            "[1.00065073e-08 1.00033602e-08 9.99988343e-09 1.00126008e-08\n",
            " 1.00171315e-08 1.00317361e-08 1.00081876e-08 1.00074092e-08\n",
            " 1.00343598e-08 1.00578816e-08 1.00465732e-08 1.00209856e-08\n",
            " 1.00495332e-08 1.00746582e-08 1.00552942e-08 1.00460745e-08\n",
            " 1.00673851e-08 1.00748342e-08 1.00763956e-08 1.00445749e-08]\n"
          ]
        }
      ]
    },
    {
      "cell_type": "markdown",
      "source": [
        "The tracking data can also directly be plotted using the functions provided in ``mbtrack2``:"
      ],
      "metadata": {
        "id": "8IBPZOBlVAXO"
      }
    },
    {
      "cell_type": "code",
      "source": [
        "from mbtrack2.tracking.monitors import plot_beamdata, streak_beamdata"
      ],
      "metadata": {
        "id": "FllM1qNtTiXu"
      },
      "execution_count": 51,
      "outputs": []
    },
    {
      "cell_type": "markdown",
      "source": [
        "Plot the mean longitudinal position (center of mass) of all bunches:"
      ],
      "metadata": {
        "id": "GE7Zc-aaU9CK"
      }
    },
    {
      "cell_type": "code",
      "source": [
        "fig = plot_beamdata(filenames=\"tracking.hdf5\", dataset=\"mean\", dimension=\"tau\", stat_var=\"mean\") "
      ],
      "metadata": {
        "id": "pAmIY3JwTaMe",
        "outputId": "84d960ec-1d15-4f5a-e6bb-1a822afd5158",
        "colab": {
          "base_uri": "https://localhost:8080/",
          "height": 279
        }
      },
      "execution_count": 52,
      "outputs": [
        {
          "output_type": "display_data",
          "data": {
            "text/plain": [
              "<Figure size 432x288 with 1 Axes>"
            ],
            "image/png": "[encoded data removed]"
          },
          "metadata": {
            "needs_background": "light"
          }
        }
      ]
    },
    {
      "cell_type": "markdown",
      "source": [
        "Plot the mean bunch length of all bunches:"
      ],
      "metadata": {
        "id": "ksdPThgeDBP9"
      }
    },
    {
      "cell_type": "code",
      "source": [
        "fig = plot_beamdata(filenames=\"tracking.hdf5\", dataset=\"std\", dimension=\"tau\", stat_var=\"mean\") "
      ],
      "metadata": {
        "id": "7y6rQp6CTe8-",
        "outputId": "c2fd3722-37f4-4640-ca41-e79cfd821327",
        "colab": {
          "base_uri": "https://localhost:8080/",
          "height": 279
        }
      },
      "execution_count": 53,
      "outputs": [
        {
          "output_type": "display_data",
          "data": {
            "text/plain": [
              "<Figure size 432x288 with 1 Axes>"
            ],
            "image/png": "[encoded data removed]"
          },
          "metadata": {
            "needs_background": "light"
          }
        }
      ]
    },
    {
      "cell_type": "markdown",
      "source": [
        "Plot the bunch length versus bunch index:"
      ],
      "metadata": {
        "id": "mzruWT76EQRI"
      }
    },
    {
      "cell_type": "code",
      "source": [
        "fig = plot_beamdata(filenames=\"tracking.hdf5\", dataset=\"std\", dimension=\"tau\", x_var=\"index\", turn=50) "
      ],
      "metadata": {
        "colab": {
          "base_uri": "https://localhost:8080/",
          "height": 279
        },
        "id": "Da1NcdPIECNn",
        "outputId": "db3ac329-1930-4963-99fd-7dfe20b41a87"
      },
      "execution_count": 54,
      "outputs": [
        {
          "output_type": "display_data",
          "data": {
            "text/plain": [
              "<Figure size 432x288 with 1 Axes>"
            ],
            "image/png": "[encoded data removed]"
          },
          "metadata": {
            "needs_background": "light"
          }
        }
      ]
    },
    {
      "cell_type": "markdown",
      "source": [
        "Plot the evolution of the longitudinal center of mass versus bunch index:"
      ],
      "metadata": {
        "id": "cOwdsEtpDa7u"
      }
    },
    {
      "cell_type": "code",
      "source": [
        "fig = streak_beamdata(\"tracking.hdf5\", dataset=\"mean\", dimension=\"tau\")"
      ],
      "metadata": {
        "id": "n5c8Jn5jXPpu",
        "colab": {
          "base_uri": "https://localhost:8080/",
          "height": 297
        },
        "outputId": "3e49514a-caf4-499e-fbb2-cdb08c29157b"
      },
      "execution_count": 55,
      "outputs": [
        {
          "output_type": "display_data",
          "data": {
            "text/plain": [
              "<Figure size 432x288 with 2 Axes>"
            ],
            "image/png": "[encoded data removed]"
          },
          "metadata": {
            "needs_background": "light"
          }
        }
      ]
    }
  ]
}